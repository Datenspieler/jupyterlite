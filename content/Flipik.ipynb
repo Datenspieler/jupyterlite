{
 "cells": [
  {
   "cell_type": "markdown",
   "id": "f3f05cb6-8638-441e-8474-82291c88ceb8",
   "metadata": {},
   "source": [
    "# 1. Einleitung"
   ]
  },
  {
   "cell_type": "markdown",
   "id": "0fee322e-0da8-4467-8097-15d7f8d5abba",
   "metadata": {
    "execution": {
     "iopub.execute_input": "2024-03-12T09:07:00.950284Z",
     "iopub.status.busy": "2024-03-12T09:07:00.950284Z",
     "iopub.status.idle": "2024-03-12T09:07:00.958383Z",
     "shell.execute_reply": "2024-03-12T09:07:00.958383Z",
     "shell.execute_reply.started": "2024-03-12T09:07:00.950284Z"
    }
   },
   "source": [
    "# 2. Einführung"
   ]
  },
  {
   "cell_type": "code",
   "execution_count": 2,
   "id": "7d6518b2-079c-4e5d-9a49-12fef0bec012",
   "metadata": {
    "execution": {
     "iopub.execute_input": "2024-03-12T09:07:15.987620Z",
     "iopub.status.busy": "2024-03-12T09:07:15.986619Z",
     "iopub.status.idle": "2024-03-12T09:07:15.994620Z",
     "shell.execute_reply": "2024-03-12T09:07:15.994620Z",
     "shell.execute_reply.started": "2024-03-12T09:07:15.987620Z"
    }
   },
   "outputs": [
    {
     "name": "stdout",
     "output_type": "stream",
     "text": [
      "Hello World!\n"
     ]
    }
   ],
   "source": [
    "print(\"Hello World!\")"
   ]
  },
  {
   "cell_type": "markdown",
   "id": "a0052b4d-5df2-4a18-989f-abb3568d1446",
   "metadata": {},
   "source": [
    "## 2.1. Editoren und IDEs"
   ]
  },
  {
   "cell_type": "code",
   "execution_count": 3,
   "id": "d5d00216-d54c-4f3f-b420-adfeb78ab44d",
   "metadata": {
    "execution": {
     "iopub.execute_input": "2024-03-12T09:07:50.968609Z",
     "iopub.status.busy": "2024-03-12T09:07:50.967610Z",
     "iopub.status.idle": "2024-03-12T09:07:50.986950Z",
     "shell.execute_reply": "2024-03-12T09:07:50.984947Z",
     "shell.execute_reply.started": "2024-03-12T09:07:50.968609Z"
    }
   },
   "outputs": [
    {
     "data": {
      "text/plain": [
       "5"
      ]
     },
     "execution_count": 3,
     "metadata": {},
     "output_type": "execute_result"
    }
   ],
   "source": [
    "2 + 3"
   ]
  },
  {
   "cell_type": "markdown",
   "id": "e8dfc4e1-e6a4-4de3-b39e-5332659a18bf",
   "metadata": {},
   "source": [
    "## 2.2. Eingabe und Ausgabe"
   ]
  },
  {
   "cell_type": "code",
   "execution_count": 4,
   "id": "ab82eb54-7f9e-4a9e-b96a-10855196d50d",
   "metadata": {
    "execution": {
     "iopub.execute_input": "2024-03-12T09:08:21.082243Z",
     "iopub.status.busy": "2024-03-12T09:08:21.082243Z",
     "iopub.status.idle": "2024-03-12T09:08:21.093243Z",
     "shell.execute_reply": "2024-03-12T09:08:21.093243Z",
     "shell.execute_reply.started": "2024-03-12T09:08:21.082243Z"
    }
   },
   "outputs": [
    {
     "name": "stdout",
     "output_type": "stream",
     "text": [
      "Hallo Welt\n"
     ]
    }
   ],
   "source": [
    "print(\"Hallo Welt\")"
   ]
  },
  {
   "cell_type": "code",
   "execution_count": 7,
   "id": "c419616f-a8a6-469b-a483-db0e2dda79c7",
   "metadata": {
    "execution": {
     "iopub.execute_input": "2024-03-12T09:09:04.231334Z",
     "iopub.status.busy": "2024-03-12T09:09:04.231334Z",
     "iopub.status.idle": "2024-03-12T09:09:07.104796Z",
     "shell.execute_reply": "2024-03-12T09:09:07.103793Z",
     "shell.execute_reply.started": "2024-03-12T09:09:04.231334Z"
    }
   },
   "outputs": [
    {
     "name": "stdin",
     "output_type": "stream",
     "text": [
      "Gib bitte etwas Text ein:  Hallo\n"
     ]
    }
   ],
   "source": [
    "input(\"Gib bitte etwas Text ein: \");"
   ]
  },
  {
   "cell_type": "markdown",
   "id": "eb2246cd-9a54-4f1f-8259-e121f78739f7",
   "metadata": {},
   "source": [
    "## 2.3. Aufgaben"
   ]
  },
  {
   "cell_type": "code",
   "execution_count": null,
   "id": "a8529ec8-362e-4961-a513-0ca1203248c9",
   "metadata": {
    "colab": {
     "base_uri": "https://localhost:8080/"
    },
    "id": "k7b4iTyAfgBS",
    "outputId": "a41cc46f-cfae-4394-ae0f-e2555ac2664b"
   },
   "outputs": [
    {
     "data": {
      "text/plain": [
       "9"
      ]
     },
     "execution_count": 4,
     "metadata": {},
     "output_type": "execute_result"
    }
   ],
   "source": [
    "1 + 2 * 4"
   ]
  },
  {
   "cell_type": "markdown",
   "id": "8d00bbac-7e1f-446b-8562-7d41492659a6",
   "metadata": {
    "id": "02BvjU7YhEo-"
   },
   "source": [
    "Rechnet aus"
   ]
  },
  {
   "cell_type": "code",
   "execution_count": null,
   "id": "04d19da4-e5eb-4319-a321-07b588bcd3a0",
   "metadata": {
    "colab": {
     "base_uri": "https://localhost:8080/"
    },
    "id": "Kc_uesFFfgZy",
    "outputId": "6b7e5116-07d5-41d5-897c-7acbb3b12373"
   },
   "outputs": [
    {
     "name": "stdout",
     "output_type": "stream",
     "text": [
      "Hello World!\n"
     ]
    }
   ],
   "source": [
    "print(\"Hello World!\")"
   ]
  },
  {
   "cell_type": "markdown",
   "id": "e7632194-f93e-4278-a9f3-4535bb223081",
   "metadata": {
    "id": "vbxNa-SphYz2"
   },
   "source": [
    "schreibt: Hello World!"
   ]
  },
  {
   "cell_type": "code",
   "execution_count": null,
   "id": "144915d3-1157-4d36-a016-2cf018efcb27",
   "metadata": {
    "colab": {
     "base_uri": "https://localhost:8080/"
    },
    "id": "FF4qJ2wrhVYe",
    "outputId": "a68b58a2-c299-4ef2-b7c1-9fa1c9ed5e23"
   },
   "outputs": [
    {
     "data": {
      "text/plain": [
       "[2, 3, 4, 5, 9, 10]"
      ]
     },
     "execution_count": 7,
     "metadata": {},
     "output_type": "execute_result"
    }
   ],
   "source": [
    "sorted( [4,3,2,5,10,9])"
   ]
  },
  {
   "cell_type": "markdown",
   "id": "70ed030e-d5a1-4dec-8d2c-46f0b4c65a30",
   "metadata": {
    "id": "FhmNBQpHh7zg"
   },
   "source": [
    "bringt die Zaglen in die korrekte Reihenfolge"
   ]
  },
  {
   "cell_type": "code",
   "execution_count": null,
   "id": "e3ece1b8-270d-4fc8-a2a9-eaf3ea920618",
   "metadata": {
    "colab": {
     "base_uri": "https://localhost:8080/"
    },
    "id": "FfaYiBt_h6eo",
    "outputId": "306867ed-7546-402d-d744-93ae24e0efee"
   },
   "outputs": [
    {
     "data": {
      "text/plain": [
       "33"
      ]
     },
     "execution_count": 8,
     "metadata": {},
     "output_type": "execute_result"
    }
   ],
   "source": [
    "sum( [4,3,2,5,10,9] )"
   ]
  },
  {
   "cell_type": "markdown",
   "id": "cc278ec6-eac9-420f-b8c6-09dcda686a46",
   "metadata": {
    "id": "DKAXVKqQiTUI"
   },
   "source": [
    "summiert"
   ]
  },
  {
   "cell_type": "code",
   "execution_count": null,
   "id": "e939d10f-3b1d-42f7-85c7-279233459579",
   "metadata": {
    "colab": {
     "base_uri": "https://localhost:8080/"
    },
    "id": "9RA2u4mCiRSk",
    "outputId": "36552099-230b-4eb5-e5fb-97d3a69801af"
   },
   "outputs": [
    {
     "data": {
      "text/plain": [
       "1.4"
      ]
     },
     "execution_count": 10,
     "metadata": {},
     "output_type": "execute_result"
    }
   ],
   "source": [
    "(4 + 3) / 5"
   ]
  },
  {
   "cell_type": "markdown",
   "id": "4137698d-e771-4b9c-b47d-be3e22deee47",
   "metadata": {
    "id": "_piD6EO0ipgN"
   },
   "source": [
    "rechnet (dividiert)"
   ]
  },
  {
   "cell_type": "code",
   "execution_count": null,
   "id": "44a6403e-367a-4f09-bb7b-a23776d92870",
   "metadata": {
    "colab": {
     "base_uri": "https://localhost:8080/"
    },
    "id": "8HJPzq5BicCA",
    "outputId": "7f06d47f-1455-4cbd-913a-c91f475dc8eb"
   },
   "outputs": [
    {
     "data": {
      "text/plain": [
       "1"
      ]
     },
     "execution_count": 11,
     "metadata": {},
     "output_type": "execute_result"
    }
   ],
   "source": [
    "(4 + 3) // 5"
   ]
  },
  {
   "cell_type": "code",
   "execution_count": null,
   "id": "40bd7abd-344f-442b-bc75-f1515b14c212",
   "metadata": {
    "colab": {
     "base_uri": "https://localhost:8080/"
    },
    "id": "Lqf_l3MHi1oj",
    "outputId": "5bea0b67-7cce-44f6-b2a3-cc8e1a914188"
   },
   "outputs": [
    {
     "data": {
      "text/plain": [
       "1"
      ]
     },
     "execution_count": 12,
     "metadata": {},
     "output_type": "execute_result"
    }
   ],
   "source": [
    "8//5"
   ]
  },
  {
   "cell_type": "code",
   "execution_count": null,
   "id": "2111c2e4-4210-49a3-9eea-07fe658a49e2",
   "metadata": {
    "colab": {
     "base_uri": "https://localhost:8080/"
    },
    "id": "GWvcZ7i5i89Q",
    "outputId": "34d4b2a5-d1c4-45fc-e130-0a70bad4ada5"
   },
   "outputs": [
    {
     "data": {
      "text/plain": [
       "1"
      ]
     },
     "execution_count": 13,
     "metadata": {},
     "output_type": "execute_result"
    }
   ],
   "source": [
    "9//5"
   ]
  },
  {
   "cell_type": "code",
   "execution_count": null,
   "id": "0e4710d3-c760-4a65-b5ef-15cbbf799842",
   "metadata": {
    "colab": {
     "base_uri": "https://localhost:8080/"
    },
    "id": "lW3NLH8Vi9_o",
    "outputId": "71c94e7f-7d0b-4000-bfa7-d1e9ba3aa5e8"
   },
   "outputs": [
    {
     "data": {
      "text/plain": [
       "2"
      ]
     },
     "execution_count": 14,
     "metadata": {},
     "output_type": "execute_result"
    }
   ],
   "source": [
    "10//5"
   ]
  },
  {
   "cell_type": "code",
   "execution_count": null,
   "id": "c1e5b0f2-b25a-4639-9621-2d11f93623fb",
   "metadata": {
    "colab": {
     "base_uri": "https://localhost:8080/"
    },
    "id": "UTME0PSCi_HQ",
    "outputId": "468970f3-0b33-4f7f-84a5-7a5d53f91dc6"
   },
   "outputs": [
    {
     "name": "stdout",
     "output_type": "stream",
     "text": [
      " 0 // 5 = 0\n",
      " 1 // 5 = 0\n",
      " 2 // 5 = 0\n",
      " 3 // 5 = 0\n",
      " 4 // 5 = 0\n",
      " 5 // 5 = 1\n",
      " 6 // 5 = 1\n",
      " 7 // 5 = 1\n",
      " 8 // 5 = 1\n",
      " 9 // 5 = 1\n",
      "10 // 5 = 2\n",
      "11 // 5 = 2\n",
      "12 // 5 = 2\n",
      "13 // 5 = 2\n",
      "14 // 5 = 2\n",
      "15 // 5 = 3\n",
      "16 // 5 = 3\n",
      "17 // 5 = 3\n",
      "18 // 5 = 3\n",
      "19 // 5 = 3\n"
     ]
    }
   ],
   "source": [
    "for i in range(20):\n",
    "  print(f\"{i:2d} // 5 = {i//5}\")"
   ]
  },
  {
   "cell_type": "markdown",
   "id": "6d6fadff-5b2c-46cd-ba1f-869863fe7ec2",
   "metadata": {
    "id": "nWqkJHmCjrR-"
   },
   "source": [
    "rechnet (dividiert ohne Rest), Ganzzahldivision"
   ]
  },
  {
   "cell_type": "code",
   "execution_count": null,
   "id": "cb5dba17-1712-44b5-9f2e-bc8051dfd7c7",
   "metadata": {
    "colab": {
     "base_uri": "https://localhost:8080/"
    },
    "id": "1Tn13UJfjIC_",
    "outputId": "c876fb87-6a8e-457d-f29c-3eeba865ab22"
   },
   "outputs": [
    {
     "name": "stdout",
     "output_type": "stream",
     "text": [
      "Wer bist du???geheim\n",
      "Hallo World!\n"
     ]
    }
   ],
   "source": [
    "input(\"Wer bist du???\")\n",
    "print(\"Hallo World!\")"
   ]
  },
  {
   "cell_type": "markdown",
   "id": "2891d10b-84a4-4816-8b6f-ba40af09b024",
   "metadata": {
    "id": "n8MvdOZjmQpq"
   },
   "source": [
    "tkinter funktioniert in dieser interaktiven Umgebung nicht"
   ]
  },
  {
   "cell_type": "markdown",
   "id": "0f07caef-bc78-44df-8f4e-6437e85c7b12",
   "metadata": {
    "id": "57zHUJOymY-j"
   },
   "source": [
    "# 3. Erste Programmelemente"
   ]
  },
  {
   "cell_type": "markdown",
   "id": "a76b211a-3e03-4154-aa2e-d17b1b498173",
   "metadata": {},
   "source": [
    "## 3.1. Kommentare"
   ]
  },
  {
   "cell_type": "code",
   "execution_count": 9,
   "id": "b1ed08ae-f9f3-44e9-906f-c2b30fb2938e",
   "metadata": {
    "execution": {
     "iopub.execute_input": "2024-03-12T09:14:35.451713Z",
     "iopub.status.busy": "2024-03-12T09:14:35.450712Z",
     "iopub.status.idle": "2024-03-12T09:14:35.458711Z",
     "shell.execute_reply": "2024-03-12T09:14:35.458711Z",
     "shell.execute_reply.started": "2024-03-12T09:14:35.451713Z"
    }
   },
   "outputs": [
    {
     "name": "stdout",
     "output_type": "stream",
     "text": [
      "Hallo!\n"
     ]
    }
   ],
   "source": [
    "# Dies ist eine Kommentarzeile, welche ignoriert wird\n",
    "\n",
    "print(\"Hallo!\") # Die Zeile wird erst ab hier ignoriert."
   ]
  },
  {
   "cell_type": "code",
   "execution_count": null,
   "id": "268ab47b-e751-4c81-8fe5-4ab798e3c3b4",
   "metadata": {},
   "outputs": [],
   "source": [
    "###########################################\n",
    "##                                       ##\n",
    "## Programm zur Addition von zwei Zahlen ##\n",
    "##                                       ##\n",
    "###########################################\n",
    "\n",
    "# Benutzer nach zwei Zahlen fragen und diese speichern\n",
    "\n",
    "# Die erhaltenen Zahlen addieren\n",
    "\n",
    "# Die Summe auf dem Bildschirm ausgeben"
   ]
  },
  {
   "cell_type": "markdown",
   "id": "65d91fa6-aacf-4ebf-b48e-d51a90648514",
   "metadata": {},
   "source": [
    "## 3.2. Variablen"
   ]
  },
  {
   "cell_type": "code",
   "execution_count": 10,
   "id": "ed96a6d4-9fef-4b39-bd24-14863ca92b20",
   "metadata": {
    "execution": {
     "iopub.execute_input": "2024-03-12T10:35:40.488314Z",
     "iopub.status.busy": "2024-03-12T10:35:40.487318Z",
     "iopub.status.idle": "2024-03-12T10:35:40.492456Z",
     "shell.execute_reply": "2024-03-12T10:35:40.492456Z",
     "shell.execute_reply.started": "2024-03-12T10:35:40.488314Z"
    }
   },
   "outputs": [
    {
     "data": {
      "text/plain": [
       "3.14111222"
      ]
     },
     "execution_count": 10,
     "metadata": {},
     "output_type": "execute_result"
    }
   ],
   "source": [
    "zwischenergebnis = 3.14111222\n",
    "zwischenergebnis"
   ]
  },
  {
   "cell_type": "code",
   "execution_count": 11,
   "id": "7e310516-5d63-44fc-88b6-a544afa7b0a2",
   "metadata": {
    "execution": {
     "iopub.execute_input": "2024-03-12T10:35:56.211742Z",
     "iopub.status.busy": "2024-03-12T10:35:56.210734Z",
     "iopub.status.idle": "2024-03-12T10:35:56.221740Z",
     "shell.execute_reply": "2024-03-12T10:35:56.221740Z",
     "shell.execute_reply.started": "2024-03-12T10:35:56.211742Z"
    }
   },
   "outputs": [
    {
     "data": {
      "text/plain": [
       "5"
      ]
     },
     "execution_count": 11,
     "metadata": {},
     "output_type": "execute_result"
    }
   ],
   "source": [
    "x = 4\n",
    "x = x + 1\n",
    "x"
   ]
  },
  {
   "cell_type": "code",
   "execution_count": 13,
   "id": "fc7f68d6-a22a-44c3-878e-546a17cc54fd",
   "metadata": {
    "execution": {
     "iopub.execute_input": "2024-03-12T10:36:34.211762Z",
     "iopub.status.busy": "2024-03-12T10:36:34.211762Z",
     "iopub.status.idle": "2024-03-12T10:36:37.755394Z",
     "shell.execute_reply": "2024-03-12T10:36:37.755394Z",
     "shell.execute_reply.started": "2024-03-12T10:36:34.211762Z"
    }
   },
   "outputs": [
    {
     "name": "stdin",
     "output_type": "stream",
     "text": [
      "Wie heisst du? Annika\n"
     ]
    },
    {
     "data": {
      "text/plain": [
       "'Annika'"
      ]
     },
     "execution_count": 13,
     "metadata": {},
     "output_type": "execute_result"
    }
   ],
   "source": [
    "name = input(\"Wie heisst du?\")\n",
    "name"
   ]
  },
  {
   "cell_type": "markdown",
   "id": "12565f67-0ff3-47ab-8915-2c7d11f58cc5",
   "metadata": {},
   "source": [
    "### 3.2.1. Aufgaben"
   ]
  },
  {
   "cell_type": "markdown",
   "id": "239b191d-d59f-4706-9fda-d5784b58c453",
   "metadata": {},
   "source": [
    "## 3.3. Verwendung von Modulen"
   ]
  },
  {
   "cell_type": "code",
   "execution_count": 17,
   "id": "d42b45f9-a0f0-4891-ace7-63e1f9bb2d7f",
   "metadata": {
    "execution": {
     "iopub.execute_input": "2024-03-12T10:38:33.194154Z",
     "iopub.status.busy": "2024-03-12T10:38:33.194154Z",
     "iopub.status.idle": "2024-03-12T10:38:33.206150Z",
     "shell.execute_reply": "2024-03-12T10:38:33.205151Z",
     "shell.execute_reply.started": "2024-03-12T10:38:33.194154Z"
    }
   },
   "outputs": [
    {
     "data": {
      "text/plain": [
       "7.0"
      ]
     },
     "execution_count": 17,
     "metadata": {},
     "output_type": "execute_result"
    }
   ],
   "source": [
    "sqrt(49)"
   ]
  },
  {
   "cell_type": "code",
   "execution_count": 15,
   "id": "010fd3b0-5652-4eab-ad4e-616e824181fe",
   "metadata": {
    "execution": {
     "iopub.execute_input": "2024-03-12T10:38:11.065831Z",
     "iopub.status.busy": "2024-03-12T10:38:11.064831Z",
     "iopub.status.idle": "2024-03-12T10:38:11.081920Z",
     "shell.execute_reply": "2024-03-12T10:38:11.080922Z",
     "shell.execute_reply.started": "2024-03-12T10:38:11.065831Z"
    }
   },
   "outputs": [
    {
     "data": {
      "text/plain": [
       "7.0"
      ]
     },
     "execution_count": 15,
     "metadata": {},
     "output_type": "execute_result"
    }
   ],
   "source": [
    "from math import sqrt\n",
    "sqrt(49)"
   ]
  },
  {
   "cell_type": "code",
   "execution_count": 16,
   "id": "e451854a-5b73-488a-96ca-00e591cfefc7",
   "metadata": {
    "execution": {
     "iopub.execute_input": "2024-03-12T10:38:25.057442Z",
     "iopub.status.busy": "2024-03-12T10:38:25.056437Z",
     "iopub.status.idle": "2024-03-12T10:38:25.070441Z",
     "shell.execute_reply": "2024-03-12T10:38:25.069472Z",
     "shell.execute_reply.started": "2024-03-12T10:38:25.057442Z"
    }
   },
   "outputs": [
    {
     "data": {
      "text/plain": [
       "7.0"
      ]
     },
     "execution_count": 16,
     "metadata": {},
     "output_type": "execute_result"
    }
   ],
   "source": [
    "import math\n",
    "math.sqrt(49)"
   ]
  },
  {
   "cell_type": "code",
   "execution_count": 18,
   "id": "a4ce5027-30d7-434d-bb62-48d2d1472df7",
   "metadata": {
    "execution": {
     "iopub.execute_input": "2024-03-12T10:38:48.114846Z",
     "iopub.status.busy": "2024-03-12T10:38:48.113847Z",
     "iopub.status.idle": "2024-03-12T10:38:48.122951Z",
     "shell.execute_reply": "2024-03-12T10:38:48.122951Z",
     "shell.execute_reply.started": "2024-03-12T10:38:48.114846Z"
    }
   },
   "outputs": [
    {
     "data": {
      "text/plain": [
       "6"
      ]
     },
     "execution_count": 18,
     "metadata": {},
     "output_type": "execute_result"
    }
   ],
   "source": [
    "from random import randint\n",
    "randint(1, 6)"
   ]
  },
  {
   "cell_type": "markdown",
   "id": "26801ace-47b4-40da-8459-8e9b53144fa4",
   "metadata": {},
   "source": [
    "### 3.3.1. Aufgaben"
   ]
  },
  {
   "cell_type": "markdown",
   "id": "177607cf-0f78-4f87-a4ac-b4a55b9594db",
   "metadata": {},
   "source": [
    "# Erste Datentypen"
   ]
  },
  {
   "cell_type": "markdown",
   "id": "6b83ada4-a87c-4f05-a463-bf6b05b7f428",
   "metadata": {},
   "source": [
    "## 4.1. Zahlen"
   ]
  },
  {
   "cell_type": "markdown",
   "id": "b4b6cf08-480d-407a-a9c5-8ff329892bcc",
   "metadata": {},
   "source": [
    "### 4.1.1. Aufgaben"
   ]
  },
  {
   "cell_type": "code",
   "execution_count": null,
   "id": "8ba6fc11-3256-4e69-9333-61f6d26df3c0",
   "metadata": {},
   "outputs": [],
   "source": []
  },
  {
   "cell_type": "markdown",
   "id": "65534ebd-fe88-46ec-baad-ca1eb0cbf280",
   "metadata": {},
   "source": [
    "## 4.2 Zeichenketten"
   ]
  },
  {
   "cell_type": "code",
   "execution_count": 19,
   "id": "1d953c1e-f441-44fb-bec7-40be3279c580",
   "metadata": {
    "execution": {
     "iopub.execute_input": "2024-03-12T10:44:45.937043Z",
     "iopub.status.busy": "2024-03-12T10:44:45.936047Z",
     "iopub.status.idle": "2024-03-12T10:44:45.946043Z",
     "shell.execute_reply": "2024-03-12T10:44:45.945046Z",
     "shell.execute_reply.started": "2024-03-12T10:44:45.937043Z"
    }
   },
   "outputs": [
    {
     "data": {
      "text/plain": [
       "42"
      ]
     },
     "execution_count": 19,
     "metadata": {},
     "output_type": "execute_result"
    }
   ],
   "source": [
    "int('42')"
   ]
  },
  {
   "cell_type": "code",
   "execution_count": 20,
   "id": "5e9f3e8d-2872-4a8f-9fc7-9baad5c690cf",
   "metadata": {
    "execution": {
     "iopub.execute_input": "2024-03-12T10:44:52.693457Z",
     "iopub.status.busy": "2024-03-12T10:44:52.693457Z",
     "iopub.status.idle": "2024-03-12T10:44:52.709584Z",
     "shell.execute_reply": "2024-03-12T10:44:52.708585Z",
     "shell.execute_reply.started": "2024-03-12T10:44:52.693457Z"
    }
   },
   "outputs": [
    {
     "data": {
      "text/plain": [
       "23.22"
      ]
     },
     "execution_count": 20,
     "metadata": {},
     "output_type": "execute_result"
    }
   ],
   "source": [
    "float('23.22')"
   ]
  },
  {
   "cell_type": "code",
   "execution_count": 21,
   "id": "8ac67e86-1e58-4492-9678-23f5226b8f26",
   "metadata": {
    "execution": {
     "iopub.execute_input": "2024-03-12T10:44:59.171258Z",
     "iopub.status.busy": "2024-03-12T10:44:59.170255Z",
     "iopub.status.idle": "2024-03-12T10:44:59.183255Z",
     "shell.execute_reply": "2024-03-12T10:44:59.182252Z",
     "shell.execute_reply.started": "2024-03-12T10:44:59.171258Z"
    }
   },
   "outputs": [
    {
     "data": {
      "text/plain": [
       "'7'"
      ]
     },
     "execution_count": 21,
     "metadata": {},
     "output_type": "execute_result"
    }
   ],
   "source": [
    "str(7)"
   ]
  },
  {
   "cell_type": "code",
   "execution_count": 22,
   "id": "042c8f93-7fad-4ee5-8fe3-318661e0d255",
   "metadata": {
    "execution": {
     "iopub.execute_input": "2024-03-12T10:45:05.984773Z",
     "iopub.status.busy": "2024-03-12T10:45:05.984773Z",
     "iopub.status.idle": "2024-03-12T10:45:06.000770Z",
     "shell.execute_reply": "2024-03-12T10:45:05.999769Z",
     "shell.execute_reply.started": "2024-03-12T10:45:05.984773Z"
    }
   },
   "outputs": [
    {
     "data": {
      "text/plain": [
       "'2.5'"
      ]
     },
     "execution_count": 22,
     "metadata": {},
     "output_type": "execute_result"
    }
   ],
   "source": [
    "str(2.5)"
   ]
  },
  {
   "cell_type": "markdown",
   "id": "c18e3315-55ee-46ed-96fa-658163538476",
   "metadata": {},
   "source": [
    "### 4.2.1 Aufgaben"
   ]
  },
  {
   "cell_type": "code",
   "execution_count": null,
   "id": "9623333b-f3aa-489c-bc86-ef35ed3d1468",
   "metadata": {},
   "outputs": [],
   "source": []
  },
  {
   "cell_type": "markdown",
   "id": "1dcbcd2a-6962-4644-abcb-6b56757425ff",
   "metadata": {},
   "source": [
    "## 4.3. Listen"
   ]
  },
  {
   "cell_type": "code",
   "execution_count": 23,
   "id": "55c405d1-4f15-4683-8a0e-201b5a944083",
   "metadata": {
    "execution": {
     "iopub.execute_input": "2024-03-12T10:46:24.000213Z",
     "iopub.status.busy": "2024-03-12T10:46:23.999210Z",
     "iopub.status.idle": "2024-03-12T10:46:24.008212Z",
     "shell.execute_reply": "2024-03-12T10:46:24.008212Z",
     "shell.execute_reply.started": "2024-03-12T10:46:23.999210Z"
    }
   },
   "outputs": [],
   "source": [
    "liste = [3, 'King Arthur', ['Rabbit', 3.4], 2.44]"
   ]
  },
  {
   "cell_type": "code",
   "execution_count": 24,
   "id": "52e2f573-61bf-429b-b747-527757340558",
   "metadata": {
    "execution": {
     "iopub.execute_input": "2024-03-12T10:46:32.560302Z",
     "iopub.status.busy": "2024-03-12T10:46:32.559304Z",
     "iopub.status.idle": "2024-03-12T10:46:32.573303Z",
     "shell.execute_reply": "2024-03-12T10:46:32.572299Z",
     "shell.execute_reply.started": "2024-03-12T10:46:32.560302Z"
    }
   },
   "outputs": [
    {
     "data": {
      "text/plain": [
       "3"
      ]
     },
     "execution_count": 24,
     "metadata": {},
     "output_type": "execute_result"
    }
   ],
   "source": [
    "liste[0]"
   ]
  },
  {
   "cell_type": "code",
   "execution_count": 26,
   "id": "cb6a0a25-6225-446d-bffe-8f2894dd1267",
   "metadata": {
    "execution": {
     "iopub.execute_input": "2024-03-12T10:46:45.091737Z",
     "iopub.status.busy": "2024-03-12T10:46:45.091737Z",
     "iopub.status.idle": "2024-03-12T10:46:45.113826Z",
     "shell.execute_reply": "2024-03-12T10:46:45.111822Z",
     "shell.execute_reply.started": "2024-03-12T10:46:45.091737Z"
    }
   },
   "outputs": [
    {
     "data": {
      "text/plain": [
       "'King Arthur'"
      ]
     },
     "execution_count": 26,
     "metadata": {},
     "output_type": "execute_result"
    }
   ],
   "source": [
    "liste[1]"
   ]
  },
  {
   "cell_type": "code",
   "execution_count": 27,
   "id": "fd03e190-8436-4163-9bb1-c49253e46ffc",
   "metadata": {
    "execution": {
     "iopub.execute_input": "2024-03-12T10:46:49.135922Z",
     "iopub.status.busy": "2024-03-12T10:46:49.134917Z",
     "iopub.status.idle": "2024-03-12T10:46:49.140922Z",
     "shell.execute_reply": "2024-03-12T10:46:49.140922Z",
     "shell.execute_reply.started": "2024-03-12T10:46:49.135922Z"
    }
   },
   "outputs": [
    {
     "data": {
      "text/plain": [
       "['Rabbit', 3.4]"
      ]
     },
     "execution_count": 27,
     "metadata": {},
     "output_type": "execute_result"
    }
   ],
   "source": [
    "liste[2]"
   ]
  },
  {
   "cell_type": "code",
   "execution_count": 28,
   "id": "97061ccb-638e-4e5d-a3ee-8183c2ccb2be",
   "metadata": {
    "execution": {
     "iopub.execute_input": "2024-03-12T10:47:00.033869Z",
     "iopub.status.busy": "2024-03-12T10:47:00.033869Z",
     "iopub.status.idle": "2024-03-12T10:47:00.038866Z",
     "shell.execute_reply": "2024-03-12T10:47:00.038866Z",
     "shell.execute_reply.started": "2024-03-12T10:47:00.033869Z"
    }
   },
   "outputs": [
    {
     "data": {
      "text/plain": [
       "'Rabbit'"
      ]
     },
     "execution_count": 28,
     "metadata": {},
     "output_type": "execute_result"
    }
   ],
   "source": [
    "liste[2][0]"
   ]
  },
  {
   "cell_type": "code",
   "execution_count": 29,
   "id": "04917981-71fe-484c-b0ad-4f7edab321ee",
   "metadata": {
    "execution": {
     "iopub.execute_input": "2024-03-12T10:47:08.232848Z",
     "iopub.status.busy": "2024-03-12T10:47:08.232848Z",
     "iopub.status.idle": "2024-03-12T10:47:08.243849Z",
     "shell.execute_reply": "2024-03-12T10:47:08.243849Z",
     "shell.execute_reply.started": "2024-03-12T10:47:08.232848Z"
    }
   },
   "outputs": [
    {
     "data": {
      "text/plain": [
       "3.4"
      ]
     },
     "execution_count": 29,
     "metadata": {},
     "output_type": "execute_result"
    }
   ],
   "source": [
    "liste[2][1]"
   ]
  },
  {
   "cell_type": "code",
   "execution_count": 30,
   "id": "db1dd0fe-ecad-4eb3-ac2c-cdc24863642c",
   "metadata": {
    "execution": {
     "iopub.execute_input": "2024-03-12T10:47:16.247858Z",
     "iopub.status.busy": "2024-03-12T10:47:16.246853Z",
     "iopub.status.idle": "2024-03-12T10:47:16.256930Z",
     "shell.execute_reply": "2024-03-12T10:47:16.256930Z",
     "shell.execute_reply.started": "2024-03-12T10:47:16.247858Z"
    }
   },
   "outputs": [
    {
     "data": {
      "text/plain": [
       "[3, 'King Arthur', ['Rabbit', 3.4], 2.44]"
      ]
     },
     "execution_count": 30,
     "metadata": {},
     "output_type": "execute_result"
    }
   ],
   "source": [
    "liste"
   ]
  },
  {
   "cell_type": "code",
   "execution_count": 31,
   "id": "829aa74e-399b-4190-baf1-e485bbfe5181",
   "metadata": {
    "execution": {
     "iopub.execute_input": "2024-03-12T10:47:24.552643Z",
     "iopub.status.busy": "2024-03-12T10:47:24.551641Z",
     "iopub.status.idle": "2024-03-12T10:47:24.561780Z",
     "shell.execute_reply": "2024-03-12T10:47:24.560775Z",
     "shell.execute_reply.started": "2024-03-12T10:47:24.552643Z"
    }
   },
   "outputs": [],
   "source": [
    "liste[0] = 11"
   ]
  },
  {
   "cell_type": "code",
   "execution_count": 32,
   "id": "d9d32c71-0e13-45a4-84ee-3cdb9e00efb1",
   "metadata": {
    "execution": {
     "iopub.execute_input": "2024-03-12T10:47:28.155732Z",
     "iopub.status.busy": "2024-03-12T10:47:28.154732Z",
     "iopub.status.idle": "2024-03-12T10:47:28.163738Z",
     "shell.execute_reply": "2024-03-12T10:47:28.163738Z",
     "shell.execute_reply.started": "2024-03-12T10:47:28.155732Z"
    }
   },
   "outputs": [
    {
     "data": {
      "text/plain": [
       "[11, 'King Arthur', ['Rabbit', 3.4], 2.44]"
      ]
     },
     "execution_count": 32,
     "metadata": {},
     "output_type": "execute_result"
    }
   ],
   "source": [
    "liste"
   ]
  },
  {
   "cell_type": "markdown",
   "id": "3fee53ef-6f39-40ff-8e96-144ceca2e95f",
   "metadata": {},
   "source": [
    "### 4.3.1 Aufgaben"
   ]
  },
  {
   "cell_type": "code",
   "execution_count": 33,
   "id": "663a35da-c2cd-40ca-96f2-cd0160d8fecb",
   "metadata": {
    "execution": {
     "iopub.execute_input": "2024-03-12T10:48:15.368861Z",
     "iopub.status.busy": "2024-03-12T10:48:15.367859Z",
     "iopub.status.idle": "2024-03-12T10:48:15.384860Z",
     "shell.execute_reply": "2024-03-12T10:48:15.383860Z",
     "shell.execute_reply.started": "2024-03-12T10:48:15.368861Z"
    }
   },
   "outputs": [
    {
     "name": "stdout",
     "output_type": "stream",
     "text": [
      "Hallo schlechtes Wetter\n"
     ]
    }
   ],
   "source": [
    "liste_a = ['Hallo', 'schönes', 'Wetter']\n",
    "liste_b = liste_a\n",
    "\n",
    "liste_b[1] = 'schlechtes'\n",
    "\n",
    "print(liste_a[0], liste_a[1], liste_a[2])  "
   ]
  },
  {
   "cell_type": "code",
   "execution_count": 34,
   "id": "871f39b1-c93e-40b3-8b99-e4e310e821aa",
   "metadata": {
    "execution": {
     "iopub.execute_input": "2024-03-12T10:48:33.356520Z",
     "iopub.status.busy": "2024-03-12T10:48:33.355521Z",
     "iopub.status.idle": "2024-03-12T10:48:33.362620Z",
     "shell.execute_reply": "2024-03-12T10:48:33.361621Z",
     "shell.execute_reply.started": "2024-03-12T10:48:33.356520Z"
    }
   },
   "outputs": [
    {
     "name": "stdout",
     "output_type": "stream",
     "text": [
      "Hallo schönes Wetter\n"
     ]
    }
   ],
   "source": [
    "liste_a = ['Hallo', 'schönes', 'Wetter']\n",
    "liste_b = liste_a.copy()\n",
    "\n",
    "liste_b[1] = 'schlechtes'\n",
    "\n",
    "print(liste_a[0], liste_a[1], liste_a[2])  "
   ]
  },
  {
   "cell_type": "code",
   "execution_count": null,
   "id": "8a2765e0-1e09-4e7b-ab75-59e3889deb77",
   "metadata": {},
   "outputs": [],
   "source": []
  }
 ],
 "metadata": {
  "kernelspec": {
   "display_name": "Python (<genai>)",
   "language": "python",
   "name": "genai"
  },
  "language_info": {
   "codemirror_mode": {
    "name": "ipython",
    "version": 3
   },
   "file_extension": ".py",
   "mimetype": "text/x-python",
   "name": "python",
   "nbconvert_exporter": "python",
   "pygments_lexer": "ipython3",
   "version": "3.9.16"
  }
 },
 "nbformat": 4,
 "nbformat_minor": 5
}
