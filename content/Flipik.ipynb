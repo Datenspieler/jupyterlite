{
  "metadata": {
    "kernelspec": {
      "name": "python",
      "display_name": "Python (Pyodide)",
      "language": "python"
    },
    "language_info": {
      "codemirror_mode": {
        "name": "python",
        "version": 3
      },
      "file_extension": ".py",
      "mimetype": "text/x-python",
      "name": "python",
      "nbconvert_exporter": "python",
      "pygments_lexer": "ipython3",
      "version": "3.8"
    }
  },
  "nbformat_minor": 5,
  "nbformat": 4,
  "cells": [
    {
      "id": "f3f05cb6-8638-441e-8474-82291c88ceb8",
      "cell_type": "markdown",
      "source": "# 1. Einleitung",
      "metadata": {}
    },
    {
      "id": "0fee322e-0da8-4467-8097-15d7f8d5abba",
      "cell_type": "markdown",
      "source": "# 2. Einführung",
      "metadata": {
        "execution": {
          "iopub.execute_input": "2024-03-12T09:07:00.950284Z",
          "iopub.status.busy": "2024-03-12T09:07:00.950284Z",
          "iopub.status.idle": "2024-03-12T09:07:00.958383Z",
          "shell.execute_reply": "2024-03-12T09:07:00.958383Z",
          "shell.execute_reply.started": "2024-03-12T09:07:00.950284Z"
        }
      }
    },
    {
      "id": "7d6518b2-079c-4e5d-9a49-12fef0bec012",
      "cell_type": "code",
      "source": "print(\"Hello World!\")",
      "metadata": {
        "trusted": true
      },
      "outputs": [
        {
          "name": "stdout",
          "text": "Hello World!\n",
          "output_type": "stream"
        }
      ],
      "execution_count": 1
    },
    {
      "id": "a0052b4d-5df2-4a18-989f-abb3568d1446",
      "cell_type": "markdown",
      "source": "## 2.1. Editoren und IDEs",
      "metadata": {}
    },
    {
      "id": "d5d00216-d54c-4f3f-b420-adfeb78ab44d",
      "cell_type": "code",
      "source": "2 + 3",
      "metadata": {
        "trusted": true
      },
      "outputs": [
        {
          "execution_count": 2,
          "output_type": "execute_result",
          "data": {
            "text/plain": "5"
          },
          "metadata": {}
        }
      ],
      "execution_count": 2
    },
    {
      "id": "e8dfc4e1-e6a4-4de3-b39e-5332659a18bf",
      "cell_type": "markdown",
      "source": "## 2.2. Eingabe und Ausgabe",
      "metadata": {}
    },
    {
      "id": "ab82eb54-7f9e-4a9e-b96a-10855196d50d",
      "cell_type": "code",
      "source": "print(\"Hallo Welt\")",
      "metadata": {
        "trusted": true
      },
      "outputs": [
        {
          "name": "stdout",
          "text": "Hallo Welt\n",
          "output_type": "stream"
        }
      ],
      "execution_count": 3
    },
    {
      "id": "c419616f-a8a6-469b-a483-db0e2dda79c7",
      "cell_type": "code",
      "source": "input(\"Gib bitte etwas Text ein: \");",
      "metadata": {
        "trusted": true
      },
      "outputs": [
        {
          "output_type": "stream",
          "name": "stdin",
          "text": "Gib bitte etwas Text ein:  Gib\n"
        }
      ],
      "execution_count": 112
    },
    {
      "id": "eb2246cd-9a54-4f1f-8259-e121f78739f7",
      "cell_type": "markdown",
      "source": "## 2.3. Aufgaben",
      "metadata": {}
    },
    {
      "id": "a8529ec8-362e-4961-a513-0ca1203248c9",
      "cell_type": "code",
      "source": "1 + 2 * 4",
      "metadata": {
        "colab": {
          "base_uri": "https://localhost:8080/"
        },
        "id": "k7b4iTyAfgBS",
        "outputId": "a41cc46f-cfae-4394-ae0f-e2555ac2664b",
        "trusted": true
      },
      "outputs": [
        {
          "execution_count": 5,
          "output_type": "execute_result",
          "data": {
            "text/plain": "9"
          },
          "metadata": {}
        }
      ],
      "execution_count": 5
    },
    {
      "id": "8d00bbac-7e1f-446b-8562-7d41492659a6",
      "cell_type": "markdown",
      "source": "Rechnet aus",
      "metadata": {
        "id": "02BvjU7YhEo-"
      }
    },
    {
      "id": "04d19da4-e5eb-4319-a321-07b588bcd3a0",
      "cell_type": "code",
      "source": "print(\"Hello World!\")",
      "metadata": {
        "colab": {
          "base_uri": "https://localhost:8080/"
        },
        "id": "Kc_uesFFfgZy",
        "outputId": "6b7e5116-07d5-41d5-897c-7acbb3b12373",
        "trusted": true
      },
      "outputs": [
        {
          "name": "stdout",
          "text": "Hello World!\n",
          "output_type": "stream"
        }
      ],
      "execution_count": 6
    },
    {
      "id": "e7632194-f93e-4278-a9f3-4535bb223081",
      "cell_type": "markdown",
      "source": "schreibt: Hello World!",
      "metadata": {
        "id": "vbxNa-SphYz2"
      }
    },
    {
      "id": "144915d3-1157-4d36-a016-2cf018efcb27",
      "cell_type": "code",
      "source": "sorted( [4,3,2,5,10,9])",
      "metadata": {
        "colab": {
          "base_uri": "https://localhost:8080/"
        },
        "id": "FF4qJ2wrhVYe",
        "outputId": "a68b58a2-c299-4ef2-b7c1-9fa1c9ed5e23",
        "trusted": true
      },
      "outputs": [
        {
          "execution_count": 7,
          "output_type": "execute_result",
          "data": {
            "text/plain": "[2, 3, 4, 5, 9, 10]"
          },
          "metadata": {}
        }
      ],
      "execution_count": 7
    },
    {
      "id": "70ed030e-d5a1-4dec-8d2c-46f0b4c65a30",
      "cell_type": "markdown",
      "source": "bringt die Zaglen in die korrekte Reihenfolge",
      "metadata": {
        "id": "FhmNBQpHh7zg"
      }
    },
    {
      "id": "e3ece1b8-270d-4fc8-a2a9-eaf3ea920618",
      "cell_type": "code",
      "source": "sum( [4,3,2,5,10,9] )",
      "metadata": {
        "colab": {
          "base_uri": "https://localhost:8080/"
        },
        "id": "FfaYiBt_h6eo",
        "outputId": "306867ed-7546-402d-d744-93ae24e0efee",
        "trusted": true
      },
      "outputs": [
        {
          "execution_count": 8,
          "output_type": "execute_result",
          "data": {
            "text/plain": "33"
          },
          "metadata": {}
        }
      ],
      "execution_count": 8
    },
    {
      "id": "cc278ec6-eac9-420f-b8c6-09dcda686a46",
      "cell_type": "markdown",
      "source": "summiert",
      "metadata": {
        "id": "DKAXVKqQiTUI"
      }
    },
    {
      "id": "e939d10f-3b1d-42f7-85c7-279233459579",
      "cell_type": "code",
      "source": "(4 + 3) / 5",
      "metadata": {
        "colab": {
          "base_uri": "https://localhost:8080/"
        },
        "id": "9RA2u4mCiRSk",
        "outputId": "36552099-230b-4eb5-e5fb-97d3a69801af",
        "trusted": true
      },
      "outputs": [
        {
          "execution_count": 9,
          "output_type": "execute_result",
          "data": {
            "text/plain": "1.4"
          },
          "metadata": {}
        }
      ],
      "execution_count": 9
    },
    {
      "id": "4137698d-e771-4b9c-b47d-be3e22deee47",
      "cell_type": "markdown",
      "source": "rechnet (dividiert)",
      "metadata": {
        "id": "_piD6EO0ipgN"
      }
    },
    {
      "id": "44a6403e-367a-4f09-bb7b-a23776d92870",
      "cell_type": "code",
      "source": "(4 + 3) // 5",
      "metadata": {
        "colab": {
          "base_uri": "https://localhost:8080/"
        },
        "id": "8HJPzq5BicCA",
        "outputId": "7f06d47f-1455-4cbd-913a-c91f475dc8eb",
        "trusted": true
      },
      "outputs": [
        {
          "execution_count": 10,
          "output_type": "execute_result",
          "data": {
            "text/plain": "1"
          },
          "metadata": {}
        }
      ],
      "execution_count": 10
    },
    {
      "id": "40bd7abd-344f-442b-bc75-f1515b14c212",
      "cell_type": "code",
      "source": "8//5",
      "metadata": {
        "colab": {
          "base_uri": "https://localhost:8080/"
        },
        "id": "Lqf_l3MHi1oj",
        "outputId": "5bea0b67-7cce-44f6-b2a3-cc8e1a914188",
        "trusted": true
      },
      "outputs": [
        {
          "execution_count": 11,
          "output_type": "execute_result",
          "data": {
            "text/plain": "1"
          },
          "metadata": {}
        }
      ],
      "execution_count": 11
    },
    {
      "id": "2111c2e4-4210-49a3-9eea-07fe658a49e2",
      "cell_type": "code",
      "source": "9//5",
      "metadata": {
        "colab": {
          "base_uri": "https://localhost:8080/"
        },
        "id": "GWvcZ7i5i89Q",
        "outputId": "34d4b2a5-d1c4-45fc-e130-0a70bad4ada5",
        "trusted": true
      },
      "outputs": [
        {
          "execution_count": 12,
          "output_type": "execute_result",
          "data": {
            "text/plain": "1"
          },
          "metadata": {}
        }
      ],
      "execution_count": 12
    },
    {
      "id": "0e4710d3-c760-4a65-b5ef-15cbbf799842",
      "cell_type": "code",
      "source": "10//5",
      "metadata": {
        "colab": {
          "base_uri": "https://localhost:8080/"
        },
        "id": "lW3NLH8Vi9_o",
        "outputId": "71c94e7f-7d0b-4000-bfa7-d1e9ba3aa5e8",
        "trusted": true
      },
      "outputs": [
        {
          "execution_count": 13,
          "output_type": "execute_result",
          "data": {
            "text/plain": "2"
          },
          "metadata": {}
        }
      ],
      "execution_count": 13
    },
    {
      "id": "c1e5b0f2-b25a-4639-9621-2d11f93623fb",
      "cell_type": "code",
      "source": "for i in range(20):\n  print(f\"{i:2d} // 5 = {i//5}\")",
      "metadata": {
        "colab": {
          "base_uri": "https://localhost:8080/"
        },
        "id": "UTME0PSCi_HQ",
        "outputId": "468970f3-0b33-4f7f-84a5-7a5d53f91dc6",
        "trusted": true
      },
      "outputs": [
        {
          "name": "stdout",
          "text": " 0 // 5 = 0\n 1 // 5 = 0\n 2 // 5 = 0\n 3 // 5 = 0\n 4 // 5 = 0\n 5 // 5 = 1\n 6 // 5 = 1\n 7 // 5 = 1\n 8 // 5 = 1\n 9 // 5 = 1\n10 // 5 = 2\n11 // 5 = 2\n12 // 5 = 2\n13 // 5 = 2\n14 // 5 = 2\n15 // 5 = 3\n16 // 5 = 3\n17 // 5 = 3\n18 // 5 = 3\n19 // 5 = 3\n",
          "output_type": "stream"
        }
      ],
      "execution_count": 14
    },
    {
      "id": "6d6fadff-5b2c-46cd-ba1f-869863fe7ec2",
      "cell_type": "markdown",
      "source": "rechnet (dividiert ohne Rest), Ganzzahldivision",
      "metadata": {
        "id": "nWqkJHmCjrR-"
      }
    },
    {
      "id": "cb5dba17-1712-44b5-9f2e-bc8051dfd7c7",
      "cell_type": "code",
      "source": "input(\"Wer bist du???\")\nprint(\"Hallo World!\")",
      "metadata": {
        "colab": {
          "base_uri": "https://localhost:8080/"
        },
        "id": "1Tn13UJfjIC_",
        "outputId": "c876fb87-6a8e-457d-f29c-3eeba865ab22",
        "trusted": true
      },
      "outputs": [
        {
          "name": "stdout",
          "text": "Hallo World!\n",
          "output_type": "stream"
        },
        {
          "output_type": "stream",
          "name": "stdin",
          "text": "Wer bist du??? geheim\n"
        }
      ],
      "execution_count": 15
    },
    {
      "id": "2891d10b-84a4-4816-8b6f-ba40af09b024",
      "cell_type": "markdown",
      "source": "tkinter funktioniert in dieser interaktiven Umgebung nicht",
      "metadata": {
        "id": "n8MvdOZjmQpq"
      }
    },
    {
      "id": "0f07caef-bc78-44df-8f4e-6437e85c7b12",
      "cell_type": "markdown",
      "source": "# 3. Erste Programmelemente",
      "metadata": {
        "id": "57zHUJOymY-j"
      }
    },
    {
      "id": "a76b211a-3e03-4154-aa2e-d17b1b498173",
      "cell_type": "markdown",
      "source": "## 3.1. Kommentare",
      "metadata": {}
    },
    {
      "id": "b1ed08ae-f9f3-44e9-906f-c2b30fb2938e",
      "cell_type": "code",
      "source": "# Dies ist eine Kommentarzeile, welche ignoriert wird\n\nprint(\"Hallo!\") # Die Zeile wird erst ab hier ignoriert.",
      "metadata": {
        "trusted": true
      },
      "outputs": [
        {
          "name": "stdout",
          "text": "Hallo!\n",
          "output_type": "stream"
        }
      ],
      "execution_count": 16
    },
    {
      "id": "268ab47b-e751-4c81-8fe5-4ab798e3c3b4",
      "cell_type": "code",
      "source": "###########################################\n##                                       ##\n## Programm zur Addition von zwei Zahlen ##\n##                                       ##\n###########################################\n\n# Benutzer nach zwei Zahlen fragen und diese speichern\n\n# Die erhaltenen Zahlen addieren\n\n# Die Summe auf dem Bildschirm ausgeben",
      "metadata": {
        "trusted": true
      },
      "outputs": [],
      "execution_count": 17
    },
    {
      "id": "65d91fa6-aacf-4ebf-b48e-d51a90648514",
      "cell_type": "markdown",
      "source": "## 3.2. Variablen",
      "metadata": {}
    },
    {
      "id": "ed96a6d4-9fef-4b39-bd24-14863ca92b20",
      "cell_type": "code",
      "source": "zwischenergebnis = 3.14111222\nprint(zwischenergebnis)",
      "metadata": {
        "trusted": true
      },
      "outputs": [
        {
          "name": "stdout",
          "text": "3.14111222\n",
          "output_type": "stream"
        }
      ],
      "execution_count": 19
    },
    {
      "id": "7e310516-5d63-44fc-88b6-a544afa7b0a2",
      "cell_type": "code",
      "source": "x = 4\nx = x + 1\nx",
      "metadata": {
        "trusted": true
      },
      "outputs": [
        {
          "execution_count": 20,
          "output_type": "execute_result",
          "data": {
            "text/plain": "5"
          },
          "metadata": {}
        }
      ],
      "execution_count": 20
    },
    {
      "id": "b2611135-6b81-46ed-ac8b-12c221fc63cb",
      "cell_type": "code",
      "source": "name = input(\"Wie heisst du?\")",
      "metadata": {
        "trusted": true
      },
      "outputs": [
        {
          "output_type": "stream",
          "name": "stdin",
          "text": "Wie heisst du? Anna\n"
        }
      ],
      "execution_count": 23
    },
    {
      "id": "8801b441-1d1c-47d7-a2ff-f6160efb34a0",
      "cell_type": "code",
      "source": "name",
      "metadata": {
        "trusted": true
      },
      "outputs": [
        {
          "execution_count": 25,
          "output_type": "execute_result",
          "data": {
            "text/plain": "<PyodideFuture finished result='Anna'>"
          },
          "metadata": {}
        }
      ],
      "execution_count": 25
    },
    {
      "id": "12565f67-0ff3-47ab-8915-2c7d11f58cc5",
      "cell_type": "markdown",
      "source": "### 3.2.1. Aufgaben",
      "metadata": {}
    },
    {
      "id": "bb6589d5-4cf0-426d-a820-7f21feaf73b5",
      "cell_type": "code",
      "source": "erste_zahl = 7\nzweite_zahl = 9\ntemp = erste_zahl\nerste_zahl = zweite_zahl\nzweite_zahl = temp",
      "metadata": {
        "trusted": true
      },
      "outputs": [],
      "execution_count": 27
    },
    {
      "id": "76fc4dc0-0877-43d2-8db9-c698ebe2ef5e",
      "cell_type": "code",
      "source": "print(\"erste_zahl = \", erste_zahl)\nprint(\"zweite_zahl = \", zweite_zahl)\nprint(\"temp = \", temp)",
      "metadata": {
        "trusted": true
      },
      "outputs": [
        {
          "name": "stdout",
          "text": "erste_zahl =  9\nzweite_zahl =  7\ntemp =  7\n",
          "output_type": "stream"
        }
      ],
      "execution_count": 30
    },
    {
      "id": "11d5dfb6-2fcd-4ed6-a699-7f1334ed06c8",
      "cell_type": "code",
      "source": "zahl2 = 11112\nzahl2",
      "metadata": {
        "trusted": true
      },
      "outputs": [
        {
          "execution_count": 31,
          "output_type": "execute_result",
          "data": {
            "text/plain": "11112"
          },
          "metadata": {}
        }
      ],
      "execution_count": 31
    },
    {
      "id": "532dfaac-2a2b-4596-a266-e5eaca16f956",
      "cell_type": "code",
      "source": "Zahl2 = 1212\nZahl2",
      "metadata": {
        "trusted": true
      },
      "outputs": [
        {
          "execution_count": 32,
          "output_type": "execute_result",
          "data": {
            "text/plain": "1212"
          },
          "metadata": {}
        }
      ],
      "execution_count": 32
    },
    {
      "id": "d26551ca-63e1-486a-a53a-21d7137842ce",
      "cell_type": "code",
      "source": "Zahl 2 = 1212\nZahl 2",
      "metadata": {
        "trusted": true
      },
      "outputs": [
        {
          "ename": "<class 'SyntaxError'>",
          "evalue": "invalid syntax (<ipython-input-33-1e7ec142a77a>, line 1)",
          "traceback": [
            "\u001b[0;36m  Cell \u001b[0;32mIn[33], line 1\u001b[0;36m\u001b[0m\n\u001b[0;31m    Zahl 2 = 1212\u001b[0m\n\u001b[0m         ^\u001b[0m\n\u001b[0;31mSyntaxError\u001b[0m\u001b[0;31m:\u001b[0m invalid syntax\n"
          ],
          "output_type": "error"
        }
      ],
      "execution_count": 33
    },
    {
      "id": "44cb9622-ce59-47af-84d9-58ad3f8e5373",
      "cell_type": "code",
      "source": "2Zahl = 1212\n2Zahl",
      "metadata": {
        "trusted": true
      },
      "outputs": [
        {
          "ename": "<class 'SyntaxError'>",
          "evalue": "invalid decimal literal (<ipython-input-34-1e98f395c6f4>, line 1)",
          "traceback": [
            "\u001b[0;36m  Cell \u001b[0;32mIn[34], line 1\u001b[0;36m\u001b[0m\n\u001b[0;31m    2Zahl = 1212\u001b[0m\n\u001b[0m    ^\u001b[0m\n\u001b[0;31mSyntaxError\u001b[0m\u001b[0;31m:\u001b[0m invalid decimal literal\n"
          ],
          "output_type": "error"
        }
      ],
      "execution_count": 34
    },
    {
      "id": "2cab688b-e2b5-426c-88bf-5e72938d855b",
      "cell_type": "code",
      "source": "Zahl.2 = 1212\nZahl.2",
      "metadata": {
        "trusted": true
      },
      "outputs": [
        {
          "ename": "<class 'SyntaxError'>",
          "evalue": "invalid syntax (<ipython-input-35-a3eb30f0afbd>, line 1)",
          "traceback": [
            "\u001b[0;36m  Cell \u001b[0;32mIn[35], line 1\u001b[0;36m\u001b[0m\n\u001b[0;31m    Zahl.2 = 1212\u001b[0m\n\u001b[0m        ^\u001b[0m\n\u001b[0;31mSyntaxError\u001b[0m\u001b[0;31m:\u001b[0m invalid syntax\n"
          ],
          "output_type": "error"
        }
      ],
      "execution_count": 35
    },
    {
      "id": "9ce5af07-226f-4671-aeda-506a94bd804c",
      "cell_type": "code",
      "source": "Zahl_2 = 1212\nZahl_2",
      "metadata": {
        "trusted": true
      },
      "outputs": [
        {
          "execution_count": 36,
          "output_type": "execute_result",
          "data": {
            "text/plain": "1212"
          },
          "metadata": {}
        }
      ],
      "execution_count": 36
    },
    {
      "id": "0e4924fc-044a-449a-a205-0e041aedd1a8",
      "cell_type": "code",
      "source": "2_Zahl = 1212\n2_Zahl",
      "metadata": {
        "trusted": true
      },
      "outputs": [
        {
          "ename": "<class 'SyntaxError'>",
          "evalue": "invalid decimal literal (<ipython-input-37-fee0035cb40f>, line 1)",
          "traceback": [
            "\u001b[0;36m  Cell \u001b[0;32mIn[37], line 1\u001b[0;36m\u001b[0m\n\u001b[0;31m    2_Zahl = 1212\u001b[0m\n\u001b[0m     ^\u001b[0m\n\u001b[0;31mSyntaxError\u001b[0m\u001b[0;31m:\u001b[0m invalid decimal literal\n"
          ],
          "output_type": "error"
        }
      ],
      "execution_count": 37
    },
    {
      "id": "3dcea124-429f-4d0a-bcf9-72faebc73b45",
      "cell_type": "code",
      "source": "_Zahl2 = 1212\n_Zahl2",
      "metadata": {
        "trusted": true
      },
      "outputs": [
        {
          "execution_count": 38,
          "output_type": "execute_result",
          "data": {
            "text/plain": "1212"
          },
          "metadata": {}
        }
      ],
      "execution_count": 38
    },
    {
      "id": "82a3d514-e2c6-4f6a-b9d8-061e683bd95b",
      "cell_type": "code",
      "source": "2_Zahl = 1212\n2_Zahl",
      "metadata": {
        "trusted": true
      },
      "outputs": [
        {
          "ename": "<class 'SyntaxError'>",
          "evalue": "invalid decimal literal (<ipython-input-39-fee0035cb40f>, line 1)",
          "traceback": [
            "\u001b[0;36m  Cell \u001b[0;32mIn[39], line 1\u001b[0;36m\u001b[0m\n\u001b[0;31m    2_Zahl = 1212\u001b[0m\n\u001b[0m     ^\u001b[0m\n\u001b[0;31mSyntaxError\u001b[0m\u001b[0;31m:\u001b[0m invalid decimal literal\n"
          ],
          "output_type": "error"
        }
      ],
      "execution_count": 39
    },
    {
      "id": "5bb63cd4-d0ea-4ca8-8f5a-c9296a358ee8",
      "cell_type": "markdown",
      "source": "Es dürfen keine Leerzeichen oder Punkte vorkommen. Am Anfang darf keine Ziffer stehen. Underscores sind okay, Groß- und Kleinbuchstaben auch.",
      "metadata": {}
    },
    {
      "id": "239b191d-d59f-4706-9fda-d5784b58c453",
      "cell_type": "markdown",
      "source": "## 3.3. Verwendung von Modulen",
      "metadata": {}
    },
    {
      "id": "d42b45f9-a0f0-4891-ace7-63e1f9bb2d7f",
      "cell_type": "code",
      "source": "sqrt(49)",
      "metadata": {
        "trusted": true
      },
      "outputs": [
        {
          "ename": "<class 'NameError'>",
          "evalue": "name 'sqrt' is not defined",
          "traceback": [
            "\u001b[0;31m---------------------------------------------------------------------------\u001b[0m",
            "\u001b[0;31mNameError\u001b[0m                                 Traceback (most recent call last)",
            "Cell \u001b[0;32mIn[40], line 1\u001b[0m\n\u001b[0;32m----> 1\u001b[0m \u001b[43msqrt\u001b[49m(\u001b[38;5;241m49\u001b[39m)\n",
            "\u001b[0;31mNameError\u001b[0m: name 'sqrt' is not defined"
          ],
          "output_type": "error"
        }
      ],
      "execution_count": 40
    },
    {
      "id": "010fd3b0-5652-4eab-ad4e-616e824181fe",
      "cell_type": "code",
      "source": "from math import sqrt\nsqrt(49)",
      "metadata": {
        "trusted": true
      },
      "outputs": [
        {
          "execution_count": 41,
          "output_type": "execute_result",
          "data": {
            "text/plain": "7.0"
          },
          "metadata": {}
        }
      ],
      "execution_count": 41
    },
    {
      "id": "e451854a-5b73-488a-96ca-00e591cfefc7",
      "cell_type": "code",
      "source": "import math\nmath.sqrt(49)",
      "metadata": {
        "trusted": true
      },
      "outputs": [
        {
          "execution_count": 42,
          "output_type": "execute_result",
          "data": {
            "text/plain": "7.0"
          },
          "metadata": {}
        }
      ],
      "execution_count": 42
    },
    {
      "id": "a4ce5027-30d7-434d-bb62-48d2d1472df7",
      "cell_type": "code",
      "source": "from random import randint\nrandint(1, 6)",
      "metadata": {
        "trusted": true
      },
      "outputs": [
        {
          "execution_count": 52,
          "output_type": "execute_result",
          "data": {
            "text/plain": "1"
          },
          "metadata": {}
        }
      ],
      "execution_count": 52
    },
    {
      "id": "e89f4bbc-dfb7-4845-aba1-72ed281c156a",
      "cell_type": "code",
      "source": "randint(1,6)",
      "metadata": {
        "trusted": true
      },
      "outputs": [
        {
          "execution_count": 54,
          "output_type": "execute_result",
          "data": {
            "text/plain": "5"
          },
          "metadata": {}
        }
      ],
      "execution_count": 54
    },
    {
      "id": "26801ace-47b4-40da-8459-8e9b53144fa4",
      "cell_type": "markdown",
      "source": "### 3.3.1. Aufgaben",
      "metadata": {}
    },
    {
      "id": "79dfce83-4093-492b-811d-8081467e8b27",
      "cell_type": "code",
      "source": "a = 1\nb = 2\nsqrt(a * a + b * b)",
      "metadata": {
        "trusted": true
      },
      "outputs": [
        {
          "execution_count": 55,
          "output_type": "execute_result",
          "data": {
            "text/plain": "2.23606797749979"
          },
          "metadata": {}
        }
      ],
      "execution_count": 55
    },
    {
      "id": "8da4b25f-7227-4dd4-aa30-c25984ec0f8c",
      "cell_type": "code",
      "source": "a = 10\nb = 15\nh = 20\nd_a_b = sqrt(a * a + b * b)\nd_a_h = sqrt(a * a + h * h)\nd_b_h = sqrt(b * b + h * h)\nd_raum = sqrt(a * a + b * b + h * h)\nprint(\"Flächendiagonale a, b = \", d_a_b)\nprint(\"Flächendiagonale a, h = \", d_a_h)\nprint(\"Flächendiagonale b, h = \", d_b_h)\nprint(\"Raumdiagonale = \", d_raum)",
      "metadata": {
        "trusted": true
      },
      "outputs": [
        {
          "name": "stdout",
          "text": "Flächendiagonale a, b =  18.027756377319946\nFlächendiagonale a, h =  22.360679774997898\nFlächendiagonale b, h =  25.0\nRaumdiagonale =  26.92582403567252\n",
          "output_type": "stream"
        }
      ],
      "execution_count": 56
    },
    {
      "id": "7349edb4-c747-46fd-ac0e-7c52ae023cfb",
      "cell_type": "code",
      "source": "w1 = randint(1,6)\nw2 = randint(1,6)\nw3 = randint(1,6)\nprint(\"Summe der 3 Würfel: \", w1 + w2 + w3)",
      "metadata": {
        "trusted": true
      },
      "outputs": [
        {
          "name": "stdout",
          "text": "Summe der 3 Würfel:  8\n",
          "output_type": "stream"
        }
      ],
      "execution_count": 61
    },
    {
      "id": "177607cf-0f78-4f87-a4ac-b4a55b9594db",
      "cell_type": "markdown",
      "source": "# Erste Datentypen",
      "metadata": {}
    },
    {
      "id": "6b83ada4-a87c-4f05-a463-bf6b05b7f428",
      "cell_type": "markdown",
      "source": "## 4.1. Zahlen",
      "metadata": {}
    },
    {
      "id": "b4b6cf08-480d-407a-a9c5-8ff329892bcc",
      "cell_type": "markdown",
      "source": "### 4.1.1. Aufgaben",
      "metadata": {}
    },
    {
      "id": "65e4572a-7f64-4924-937c-4039b2caae72",
      "cell_type": "markdown",
      "source": "#### 1",
      "metadata": {}
    },
    {
      "id": "1aac5787-44c7-42d2-b410-f67d3e3e6bc3",
      "cell_type": "code",
      "source": "1 + 3",
      "metadata": {
        "trusted": true
      },
      "outputs": [
        {
          "execution_count": 8,
          "output_type": "execute_result",
          "data": {
            "text/plain": "4"
          },
          "metadata": {}
        }
      ],
      "execution_count": 8
    },
    {
      "id": "6d6839a0-12c6-4f6f-9362-65a72bdbfeb1",
      "cell_type": "markdown",
      "source": "Addieren",
      "metadata": {}
    },
    {
      "id": "4fac618d-790f-42a7-a40f-b0bbdaf1a9c3",
      "cell_type": "code",
      "source": "3 - 1 ",
      "metadata": {
        "trusted": true
      },
      "outputs": [
        {
          "execution_count": 9,
          "output_type": "execute_result",
          "data": {
            "text/plain": "2"
          },
          "metadata": {}
        }
      ],
      "execution_count": 9
    },
    {
      "id": "a6c26f72-9100-48bd-bd14-ff3ff06ed4e4",
      "cell_type": "markdown",
      "source": "Subtrahieren",
      "metadata": {}
    },
    {
      "id": "a9933a88-d0bb-4d14-8991-4d529d1104a4",
      "cell_type": "code",
      "source": "1 % 2",
      "metadata": {
        "trusted": true
      },
      "outputs": [
        {
          "execution_count": 10,
          "output_type": "execute_result",
          "data": {
            "text/plain": "1"
          },
          "metadata": {}
        }
      ],
      "execution_count": 10
    },
    {
      "id": "39f93d6c-7671-4ab0-8a66-cf3b5e290cb9",
      "cell_type": "code",
      "source": "2 % 2",
      "metadata": {
        "trusted": true
      },
      "outputs": [
        {
          "execution_count": 12,
          "output_type": "execute_result",
          "data": {
            "text/plain": "0"
          },
          "metadata": {}
        }
      ],
      "execution_count": 12
    },
    {
      "id": "e0a8f0e2-a774-4b3a-9aa0-e5acfdf28194",
      "cell_type": "code",
      "source": "3 % 2",
      "metadata": {
        "trusted": true
      },
      "outputs": [
        {
          "execution_count": 13,
          "output_type": "execute_result",
          "data": {
            "text/plain": "1"
          },
          "metadata": {}
        }
      ],
      "execution_count": 13
    },
    {
      "id": "8b696cd2-5002-4a68-893e-05dc52e10fbd",
      "cell_type": "code",
      "source": "4 % 2",
      "metadata": {
        "trusted": true
      },
      "outputs": [
        {
          "execution_count": 14,
          "output_type": "execute_result",
          "data": {
            "text/plain": "0"
          },
          "metadata": {}
        }
      ],
      "execution_count": 14
    },
    {
      "id": "8efc7c45-cbf4-4d8c-9caf-1add56bbf535",
      "cell_type": "code",
      "source": "y = 5\nfor x in range(0,2 * y):\n    print(f\"{x} % {y} = {x%y}\")",
      "metadata": {
        "trusted": true
      },
      "outputs": [
        {
          "name": "stdout",
          "text": "0 % 5 = 0\n1 % 5 = 1\n2 % 5 = 2\n3 % 5 = 3\n4 % 5 = 4\n5 % 5 = 0\n6 % 5 = 1\n7 % 5 = 2\n8 % 5 = 3\n9 % 5 = 4\n",
          "output_type": "stream"
        }
      ],
      "execution_count": 16
    },
    {
      "id": "8c3a1bf1-df17-4d7a-bc5a-d0befa5db667",
      "cell_type": "markdown",
      "source": "Modulo = Rest bei Division",
      "metadata": {}
    },
    {
      "id": "0b5da4d7-dc66-41ec-9ed8-06c18967b085",
      "cell_type": "code",
      "source": "- 4",
      "metadata": {
        "trusted": true
      },
      "outputs": [
        {
          "execution_count": 17,
          "output_type": "execute_result",
          "data": {
            "text/plain": "-4"
          },
          "metadata": {}
        }
      ],
      "execution_count": 17
    },
    {
      "id": "6ad5031b-d549-4c09-8138-9f480fd9be0f",
      "cell_type": "markdown",
      "source": "Minuszahl",
      "metadata": {}
    },
    {
      "id": "33f2664d-01b2-489f-b3aa-9665d460085c",
      "cell_type": "code",
      "source": " 3 * 5 ",
      "metadata": {
        "trusted": true
      },
      "outputs": [
        {
          "execution_count": 18,
          "output_type": "execute_result",
          "data": {
            "text/plain": "15"
          },
          "metadata": {}
        }
      ],
      "execution_count": 18
    },
    {
      "id": "cf2a004f-aa7f-4d0a-b842-d59d3a72483a",
      "cell_type": "markdown",
      "source": "Multiplizieren",
      "metadata": {}
    },
    {
      "id": "f2616b6a-c799-4850-81c2-6b8d53c3589a",
      "cell_type": "code",
      "source": "3 / 5",
      "metadata": {
        "trusted": true
      },
      "outputs": [
        {
          "execution_count": 19,
          "output_type": "execute_result",
          "data": {
            "text/plain": "0.6"
          },
          "metadata": {}
        }
      ],
      "execution_count": 19
    },
    {
      "id": "7d43d684-2066-4ba4-b7e9-317fc7c2f3c2",
      "cell_type": "markdown",
      "source": "Dividieren",
      "metadata": {}
    },
    {
      "id": "3a21459d-11a7-444a-930a-5e9e5bccc814",
      "cell_type": "code",
      "source": "3 ** 2",
      "metadata": {
        "trusted": true
      },
      "outputs": [
        {
          "execution_count": 20,
          "output_type": "execute_result",
          "data": {
            "text/plain": "9"
          },
          "metadata": {}
        }
      ],
      "execution_count": 20
    },
    {
      "id": "e808d8fc-bb8b-4159-93d3-eae6635be7b2",
      "cell_type": "code",
      "source": "4 ** 2",
      "metadata": {
        "trusted": true
      },
      "outputs": [
        {
          "execution_count": 21,
          "output_type": "execute_result",
          "data": {
            "text/plain": "16"
          },
          "metadata": {}
        }
      ],
      "execution_count": 21
    },
    {
      "id": "97b5da2c-de0c-4143-88bc-cb75e6f3042b",
      "cell_type": "code",
      "source": "5 ** 2",
      "metadata": {
        "trusted": true
      },
      "outputs": [
        {
          "execution_count": 22,
          "output_type": "execute_result",
          "data": {
            "text/plain": "25"
          },
          "metadata": {}
        }
      ],
      "execution_count": 22
    },
    {
      "id": "0282a0ea-76a1-4082-9806-4aa5576970df",
      "cell_type": "code",
      "source": "3 ** 3",
      "metadata": {
        "trusted": true
      },
      "outputs": [
        {
          "execution_count": 23,
          "output_type": "execute_result",
          "data": {
            "text/plain": "27"
          },
          "metadata": {}
        }
      ],
      "execution_count": 23
    },
    {
      "id": "129ec5eb-0d75-45c9-8546-747b4f3fde0d",
      "cell_type": "code",
      "source": "4 ** 3",
      "metadata": {
        "trusted": true
      },
      "outputs": [
        {
          "execution_count": 25,
          "output_type": "execute_result",
          "data": {
            "text/plain": "64"
          },
          "metadata": {}
        }
      ],
      "execution_count": 25
    },
    {
      "id": "9658c146-c53a-4c95-8137-ad3e963ee256",
      "cell_type": "markdown",
      "source": "Hoch x ** y = x * x * ... * x (y mal)",
      "metadata": {}
    },
    {
      "id": "b081a29c-fe6a-464a-8f52-805ec81d5375",
      "cell_type": "code",
      "source": "5 // 4",
      "metadata": {
        "trusted": true
      },
      "outputs": [
        {
          "execution_count": 27,
          "output_type": "execute_result",
          "data": {
            "text/plain": "1"
          },
          "metadata": {}
        }
      ],
      "execution_count": 27
    },
    {
      "id": "0d31e795-af81-41dc-aa7e-a6fd8cf1dcaa",
      "cell_type": "code",
      "source": "for i in range(20):\n  print(f\"{i:2d} // 5 = {i//5}\")",
      "metadata": {
        "trusted": true
      },
      "outputs": [
        {
          "name": "stdout",
          "text": " 0 // 5 = 0\n 1 // 5 = 0\n 2 // 5 = 0\n 3 // 5 = 0\n 4 // 5 = 0\n 5 // 5 = 1\n 6 // 5 = 1\n 7 // 5 = 1\n 8 // 5 = 1\n 9 // 5 = 1\n10 // 5 = 2\n11 // 5 = 2\n12 // 5 = 2\n13 // 5 = 2\n14 // 5 = 2\n15 // 5 = 3\n16 // 5 = 3\n17 // 5 = 3\n18 // 5 = 3\n19 // 5 = 3\n",
          "output_type": "stream"
        }
      ],
      "execution_count": 26
    },
    {
      "id": "c6d3d422-4da4-4c70-a1c2-fc430185e0f7",
      "cell_type": "markdown",
      "source": "Ganzzahldivision = Division, bei dei der Rest ignoriert wird. ",
      "metadata": {}
    },
    {
      "id": "a61d8800-acc0-42a6-bd37-9a3932f0dca9",
      "cell_type": "code",
      "source": "for i in (0,1,2,3):\n    print(i)",
      "metadata": {
        "trusted": true
      },
      "outputs": [
        {
          "name": "stdout",
          "text": "0\n1\n2\n3\n",
          "output_type": "stream"
        }
      ],
      "execution_count": 28
    },
    {
      "id": "10bed180-1ce5-46f2-81b6-5c325b7d5364",
      "cell_type": "code",
      "source": "for i in range(5,11):\n    print(i)",
      "metadata": {
        "trusted": true
      },
      "outputs": [
        {
          "name": "stdout",
          "text": "5\n6\n7\n8\n9\n10\n",
          "output_type": "stream"
        }
      ],
      "execution_count": 31
    },
    {
      "id": "9306ef96-fa86-49b2-a1c5-b1469ee3a55d",
      "cell_type": "code",
      "source": "for i in range(5,11):\n    print(f\"Wenn i = {i}, dann ist 10 mal i = {10*i}\")",
      "metadata": {
        "trusted": true
      },
      "outputs": [
        {
          "name": "stdout",
          "text": "Wenn i = 5, dann ist 10 mal i = 50\nWenn i = 6, dann ist 10 mal i = 60\nWenn i = 7, dann ist 10 mal i = 70\nWenn i = 8, dann ist 10 mal i = 80\nWenn i = 9, dann ist 10 mal i = 90\nWenn i = 10, dann ist 10 mal i = 100\n",
          "output_type": "stream"
        }
      ],
      "execution_count": 39
    },
    {
      "id": "799a8648-f380-4405-9484-be55a4dab5fd",
      "cell_type": "code",
      "source": "for i in range(5,11):\n    print(f\"Wenn i = {i:2d}, dann ist 10 mal i = {10*i:3d}\")",
      "metadata": {
        "trusted": true
      },
      "outputs": [
        {
          "name": "stdout",
          "text": "Wenn i =  5, dann ist 10 mal i =  50\nWenn i =  6, dann ist 10 mal i =  60\nWenn i =  7, dann ist 10 mal i =  70\nWenn i =  8, dann ist 10 mal i =  80\nWenn i =  9, dann ist 10 mal i =  90\nWenn i = 10, dann ist 10 mal i = 100\n",
          "output_type": "stream"
        }
      ],
      "execution_count": 38
    },
    {
      "id": "53bcc088-c82b-48df-8e49-8881ae8965b9",
      "cell_type": "markdown",
      "source": "#### 2",
      "metadata": {}
    },
    {
      "id": "8c4afb0b-d28d-4c67-a010-e8e9007c5436",
      "cell_type": "code",
      "source": "x = 2\ny = 3\nz = x + y\nx = z\ny = x\nprint(x)\nprint(y)\nprint(z)",
      "metadata": {
        "trusted": true
      },
      "outputs": [
        {
          "name": "stdout",
          "text": "5\n5\n5\n",
          "output_type": "stream"
        }
      ],
      "execution_count": 42
    },
    {
      "id": "026ff913-6a8b-466c-864e-3a4f72dd3f9e",
      "cell_type": "code",
      "source": "x = 2\ny = 3\nz = x + y\nprint(f\"x = {x}, y = {y}, z = {z}\")\nx = z\nprint(f\"x = {x}, y = {y}, z = {z}\")\ny = x\nprint(f\"x = {x}, y = {y}, z = {z}\")",
      "metadata": {
        "trusted": true
      },
      "outputs": [
        {
          "name": "stdout",
          "text": "x = 2, y = 3, z = 5\nx = 5, y = 3, z = 5\nx = 5, y = 5, z = 5\n",
          "output_type": "stream"
        }
      ],
      "execution_count": 43
    },
    {
      "id": "0525fdc9-9afd-424e-8cbe-59d6007ad361",
      "cell_type": "markdown",
      "source": "#### 3",
      "metadata": {}
    },
    {
      "id": "f9a31be0-59c3-4977-a786-a9b5ddb72872",
      "cell_type": "code",
      "source": "0.1 + 0.1 + 0.1 - 0.3",
      "metadata": {
        "trusted": true
      },
      "outputs": [
        {
          "execution_count": 44,
          "output_type": "execute_result",
          "data": {
            "text/plain": "5.551115123125783e-17"
          },
          "metadata": {}
        }
      ],
      "execution_count": 44
    },
    {
      "id": "fd19d2f4-f382-4cb0-a5bd-00a8d3123259",
      "cell_type": "code",
      "source": "5 + 10**40 - 10**40",
      "metadata": {
        "trusted": true
      },
      "outputs": [
        {
          "execution_count": 45,
          "output_type": "execute_result",
          "data": {
            "text/plain": "5"
          },
          "metadata": {}
        }
      ],
      "execution_count": 45
    },
    {
      "id": "4d855a9b-d596-4d7c-a30c-849fed75eb2d",
      "cell_type": "code",
      "source": "5.0 + 10**40 - 10**40",
      "metadata": {
        "trusted": true
      },
      "outputs": [
        {
          "execution_count": 46,
          "output_type": "execute_result",
          "data": {
            "text/plain": "0.0"
          },
          "metadata": {}
        }
      ],
      "execution_count": 46
    },
    {
      "id": "7a5f9ba4-7057-4425-9d58-f40d77dc38b1",
      "cell_type": "markdown",
      "source": "Computer können mit Kommazahlen nicht so gut (=genau) rechnen.",
      "metadata": {}
    },
    {
      "id": "4ca38a10-5a06-4fcf-a9ec-3be78c70128d",
      "cell_type": "markdown",
      "source": "#### 4",
      "metadata": {}
    },
    {
      "id": "d50062be-b7c2-4289-90f8-e4c70597218d",
      "cell_type": "code",
      "source": "n1 = 1\nn2 = 3\nn3 = 3\nfor n4 in range(1,6):\n    print(f\"Du hattest bisher folgende Noten: {n1}, {n2}, {n3}. Wenn die vierte Note ein {n4}-er ist, dann ist der Notendruchschnitt = {(n1 + n2 + n3 + n4) / 4}\")",
      "metadata": {
        "trusted": true
      },
      "outputs": [
        {
          "name": "stdout",
          "text": "Du hattest bisher folgende Noten: 1, 3, 3. Wenn die vierte Note ein 1-er ist, dann ist der Notendruchschnitt = 2.0\nDu hattest bisher folgende Noten: 1, 3, 3. Wenn die vierte Note ein 2-er ist, dann ist der Notendruchschnitt = 2.25\nDu hattest bisher folgende Noten: 1, 3, 3. Wenn die vierte Note ein 3-er ist, dann ist der Notendruchschnitt = 2.5\nDu hattest bisher folgende Noten: 1, 3, 3. Wenn die vierte Note ein 4-er ist, dann ist der Notendruchschnitt = 2.75\nDu hattest bisher folgende Noten: 1, 3, 3. Wenn die vierte Note ein 5-er ist, dann ist der Notendruchschnitt = 3.0\n",
          "output_type": "stream"
        }
      ],
      "execution_count": 51
    },
    {
      "id": "2aae4f11-b314-4511-843e-62f3c75aeab9",
      "cell_type": "markdown",
      "source": "#### 5",
      "metadata": {}
    },
    {
      "id": "403333a3-28a9-4531-9899-3e8ff28c3284",
      "cell_type": "code",
      "source": "stunden = 17\nminuten = 17\nsekunden = 17\nsekunden_insgesamt = (stunden * 60 + minuten) * 60 + sekunden\nprint(sekunden_insgesamt)",
      "metadata": {
        "trusted": true
      },
      "outputs": [
        {
          "name": "stdout",
          "text": "62237\n",
          "output_type": "stream"
        }
      ],
      "execution_count": 55
    },
    {
      "id": "73b6964e-a283-42e7-b92c-998b5054562f",
      "cell_type": "markdown",
      "source": "#### 6",
      "metadata": {}
    },
    {
      "id": "655888e6-8710-4b2a-a53b-df8f4e402d91",
      "cell_type": "code",
      "source": "Grundgebühr = 60\nGebühr_pro_Stunde = 35\nDauer = 11\nKosten = Grundgebühr + Dauer * Gebühr_pro_Stunde\nprint(f\"\"\"Bei einer Grundgebühr von {Grundgebühr} und einer Gebühr von {Gebühr_pro_Stunde} pro Stunde, \nergeben sich bei einer Nuztungsdauer von {Dauer} Stunden gesamte Kosten von {Kosten}.\"\"\")",
      "metadata": {
        "trusted": true
      },
      "outputs": [
        {
          "name": "stdout",
          "text": "Bei einer Grundgebühr von 60 und einer Gebühr von 35 pro Stunde, \nergeben sich bei einer Nuztungsdauer von 11 Stunden gesamte Kosten von 445.\n",
          "output_type": "stream"
        }
      ],
      "execution_count": 60
    },
    {
      "id": "1776248f-7f54-4ef4-a2cd-90aebd5e2d42",
      "cell_type": "markdown",
      "source": "#### 7",
      "metadata": {}
    },
    {
      "id": "409b5c4c-5d0b-45e5-81e3-3b98b5c8b292",
      "cell_type": "code",
      "source": "Kosten_Lieferwagen = 1.6\nKosten_Lastwagen = 2.8\nKilometer_Lieferwagen = 85\nKilometer_Lastwagen = 120\nGebühr = Kosten_Lastwagen * Kilometer_Lastwagen + Kosten_Lieferwagen * Kilometer_Lieferwagen\nprint(Gebühr)",
      "metadata": {
        "trusted": true
      },
      "outputs": [
        {
          "name": "stdout",
          "text": "472.0\n",
          "output_type": "stream"
        }
      ],
      "execution_count": 62
    },
    {
      "id": "879ae69a-6742-4a2a-9b8d-c5a58bb3c2d0",
      "cell_type": "markdown",
      "source": "#### 8",
      "metadata": {}
    },
    {
      "id": "4b77e3f9-ffe4-4730-ba76-f47c6a8be539",
      "cell_type": "code",
      "source": "Kosten_Rotwein = 18\nKosten_Rose = 13\nKosten_Weisswein = 12\nAnzahl_Rotwein = 12\nAnzahl_Rose = 6 \nAnzahl_Weisswein = 24\nKosten_gesamt = Anzahl_Rotwein * Kosten_Rotwein + Anzahl_Rose * Kosten_Rose + Anzahl_Weisswein * Kosten_Weisswein\nprint(Kosten_gesamt)",
      "metadata": {
        "trusted": true
      },
      "outputs": [
        {
          "name": "stdout",
          "text": "582\n",
          "output_type": "stream"
        }
      ],
      "execution_count": 64
    },
    {
      "id": "65534ebd-fe88-46ec-baad-ca1eb0cbf280",
      "cell_type": "markdown",
      "source": "## 4.2 Zeichenketten",
      "metadata": {}
    },
    {
      "id": "8e0ae405-4c9e-4a0e-95af-141738fd20a9",
      "cell_type": "code",
      "source": "'Hallo Welt'",
      "metadata": {
        "trusted": true
      },
      "outputs": [
        {
          "execution_count": 66,
          "output_type": "execute_result",
          "data": {
            "text/plain": "'Hallo Welt'"
          },
          "metadata": {}
        }
      ],
      "execution_count": 66
    },
    {
      "id": "86e09421-2434-4e5f-b58c-57ba7fa0a0c4",
      "cell_type": "code",
      "source": "\"Hallo Welt\"",
      "metadata": {
        "trusted": true
      },
      "outputs": [
        {
          "execution_count": 68,
          "output_type": "execute_result",
          "data": {
            "text/plain": "'Hallo Welt'"
          },
          "metadata": {}
        }
      ],
      "execution_count": 68
    },
    {
      "id": "a76ae2c0-145d-4dbd-9a31-f2dada5672f0",
      "cell_type": "code",
      "source": "'Eine Zeichenkette, welche \"Anführungszeichen\" enthält'",
      "metadata": {
        "trusted": true
      },
      "outputs": [
        {
          "execution_count": 69,
          "output_type": "execute_result",
          "data": {
            "text/plain": "'Eine Zeichenkette, welche \"Anführungszeichen\" enthält'"
          },
          "metadata": {}
        }
      ],
      "execution_count": 69
    },
    {
      "id": "149844a8-a1e6-4239-96dd-95ef79606f19",
      "cell_type": "code",
      "source": "'2.73'",
      "metadata": {
        "trusted": true
      },
      "outputs": [
        {
          "execution_count": 72,
          "output_type": "execute_result",
          "data": {
            "text/plain": "'2.73'"
          },
          "metadata": {}
        }
      ],
      "execution_count": 72
    },
    {
      "id": "1d953c1e-f441-44fb-bec7-40be3279c580",
      "cell_type": "code",
      "source": "int('42')",
      "metadata": {
        "trusted": true
      },
      "outputs": [
        {
          "execution_count": 73,
          "output_type": "execute_result",
          "data": {
            "text/plain": "42"
          },
          "metadata": {}
        }
      ],
      "execution_count": 73
    },
    {
      "id": "5e9f3e8d-2872-4a8f-9fc7-9baad5c690cf",
      "cell_type": "code",
      "source": "float('23.22')",
      "metadata": {
        "trusted": true
      },
      "outputs": [
        {
          "execution_count": 74,
          "output_type": "execute_result",
          "data": {
            "text/plain": "23.22"
          },
          "metadata": {}
        }
      ],
      "execution_count": 74
    },
    {
      "id": "8ac67e86-1e58-4492-9678-23f5226b8f26",
      "cell_type": "code",
      "source": "str(7)",
      "metadata": {
        "trusted": true
      },
      "outputs": [
        {
          "execution_count": 78,
          "output_type": "execute_result",
          "data": {
            "text/plain": "'7'"
          },
          "metadata": {}
        }
      ],
      "execution_count": 78
    },
    {
      "id": "042c8f93-7fad-4ee5-8fe3-318661e0d255",
      "cell_type": "code",
      "source": "str(2.5)",
      "metadata": {
        "trusted": true
      },
      "outputs": [
        {
          "execution_count": 79,
          "output_type": "execute_result",
          "data": {
            "text/plain": "'2.5'"
          },
          "metadata": {}
        }
      ],
      "execution_count": 79
    },
    {
      "id": "c18e3315-55ee-46ed-96fa-658163538476",
      "cell_type": "markdown",
      "source": "### 4.2.1 Aufgaben",
      "metadata": {}
    },
    {
      "id": "b3dae602-4148-4822-a18b-05b6e2d500ba",
      "cell_type": "markdown",
      "source": "#### 1",
      "metadata": {}
    },
    {
      "id": "0bdb0d68-0220-49fc-ab06-56847efc6e10",
      "cell_type": "code",
      "source": "string_eins = \"Hallo schöne, neue Welt\"\nstring_zwei = \"Hallo Mars, ich bin ein Marsroboter\"",
      "metadata": {
        "trusted": true
      },
      "outputs": [],
      "execution_count": 100
    },
    {
      "id": "f368d2e5-72d0-46f6-b66e-4654e9563f93",
      "cell_type": "code",
      "source": "string_eins[0] # 0-te Buchstabe",
      "metadata": {
        "trusted": true
      },
      "outputs": [
        {
          "execution_count": 85,
          "output_type": "execute_result",
          "data": {
            "text/plain": "'H'"
          },
          "metadata": {}
        }
      ],
      "execution_count": 85
    },
    {
      "id": "e4421c94-4848-46c4-b919-6600d1af85c7",
      "cell_type": "code",
      "source": "string_eins.capitalize()",
      "metadata": {
        "trusted": true
      },
      "outputs": [
        {
          "execution_count": 86,
          "output_type": "execute_result",
          "data": {
            "text/plain": "'Hallo schöne, neue welt'"
          },
          "metadata": {}
        }
      ],
      "execution_count": 86
    },
    {
      "id": "2f37a334-59dd-4069-ac69-49d5c7fe63c2",
      "cell_type": "code",
      "source": "\"abc ABC\".capitalize() # erstes Zeichen Großbuchstabe, Rest klein",
      "metadata": {
        "trusted": true
      },
      "outputs": [
        {
          "execution_count": 88,
          "output_type": "execute_result",
          "data": {
            "text/plain": "'Abc abc'"
          },
          "metadata": {}
        }
      ],
      "execution_count": 88
    },
    {
      "id": "ecca36b6-b18f-4a24-880a-1e56180b3429",
      "cell_type": "code",
      "source": "string_eins.lower() # alles Kleinbuchstaben",
      "metadata": {
        "trusted": true
      },
      "outputs": [
        {
          "execution_count": 90,
          "output_type": "execute_result",
          "data": {
            "text/plain": "'hallo schöne, neue welt'"
          },
          "metadata": {}
        }
      ],
      "execution_count": 90
    },
    {
      "id": "6f7495d3-223f-4062-a208-a605a778e36f",
      "cell_type": "code",
      "source": "string_eins.count('e') # Zähle wie oft der Buchstabe vorkommt",
      "metadata": {
        "trusted": true
      },
      "outputs": [
        {
          "execution_count": 96,
          "output_type": "execute_result",
          "data": {
            "text/plain": "4"
          },
          "metadata": {}
        }
      ],
      "execution_count": 96
    },
    {
      "id": "f1b4232c-a6a4-43f9-9262-6683fa92040a",
      "cell_type": "code",
      "source": "string_eins.find('e')",
      "metadata": {
        "trusted": true
      },
      "outputs": [
        {
          "execution_count": 92,
          "output_type": "execute_result",
          "data": {
            "text/plain": "11"
          },
          "metadata": {}
        }
      ],
      "execution_count": 92
    },
    {
      "id": "9749af9e-4b55-460f-850d-0a7ac25d0490",
      "cell_type": "code",
      "source": "string_eins.find('H') # Finde Stelle an der der Buchstabe vorkommt",
      "metadata": {
        "trusted": true
      },
      "outputs": [
        {
          "execution_count": 95,
          "output_type": "execute_result",
          "data": {
            "text/plain": "0"
          },
          "metadata": {}
        }
      ],
      "execution_count": 95
    },
    {
      "id": "9ca90e37-a32e-42b9-9165-24ec8815bf3b",
      "cell_type": "code",
      "source": "string_eins.find('h')",
      "metadata": {
        "trusted": true
      },
      "outputs": [
        {
          "execution_count": 94,
          "output_type": "execute_result",
          "data": {
            "text/plain": "8"
          },
          "metadata": {}
        }
      ],
      "execution_count": 94
    },
    {
      "id": "2d3de4d9-e07a-47b0-b2f6-f46a118ce5aa",
      "cell_type": "code",
      "source": "string_eins + string_zwei",
      "metadata": {
        "trusted": true
      },
      "outputs": [
        {
          "execution_count": 101,
          "output_type": "execute_result",
          "data": {
            "text/plain": "'Hallo schöne, neue WeltHallo Mars, ich bin ein Marsroboter'"
          },
          "metadata": {}
        }
      ],
      "execution_count": 101
    },
    {
      "id": "ff13be5a-b0c9-402e-87d9-e468f6cea711",
      "cell_type": "code",
      "source": "'Hal' + 'lo' + ' ' + 'Du'",
      "metadata": {
        "trusted": true
      },
      "outputs": [
        {
          "execution_count": 102,
          "output_type": "execute_result",
          "data": {
            "text/plain": "'Hallo Du'"
          },
          "metadata": {}
        }
      ],
      "execution_count": 102
    },
    {
      "id": "1effbc88-a927-4a35-9982-96bca07c7592",
      "cell_type": "markdown",
      "source": "#### 2",
      "metadata": {}
    },
    {
      "id": "aaa29a83-368e-4365-9092-d2b4a9f33763",
      "cell_type": "code",
      "source": "eingabe = await input(\"Gib einen Text ein: \") # Achtung - bei Pyodide muss noch ein await eingegeben werden",
      "metadata": {
        "trusted": true
      },
      "outputs": [
        {
          "output_type": "stream",
          "name": "stdin",
          "text": "Gib einen Text ein:  annika\n"
        }
      ],
      "execution_count": 115
    },
    {
      "id": "908827fe-f43c-47dc-b142-32dc679a2f35",
      "cell_type": "code",
      "source": "ausgabe = eingabe.capitalize()\nausgabe = ausgabe + '!'\nprint(ausgabe)",
      "metadata": {
        "trusted": true
      },
      "outputs": [
        {
          "name": "stdout",
          "text": "Annika!\n",
          "output_type": "stream"
        }
      ],
      "execution_count": 116
    },
    {
      "id": "06731d7d-b1cc-4a67-86c2-d55eb77f9dc7",
      "cell_type": "markdown",
      "source": "#### 3",
      "metadata": {}
    },
    {
      "id": "d0751fae-5d5f-4ebb-89bb-91e4ba3a0f72",
      "cell_type": "code",
      "source": "'23' + '7'",
      "metadata": {
        "trusted": true
      },
      "outputs": [
        {
          "execution_count": 117,
          "output_type": "execute_result",
          "data": {
            "text/plain": "'237'"
          },
          "metadata": {}
        }
      ],
      "execution_count": 117
    },
    {
      "id": "deb04cbb-d7af-4d17-898d-f9f5fd9bc45a",
      "cell_type": "code",
      "source": "23 + 7",
      "metadata": {
        "trusted": true
      },
      "outputs": [
        {
          "execution_count": 118,
          "output_type": "execute_result",
          "data": {
            "text/plain": "30"
          },
          "metadata": {}
        }
      ],
      "execution_count": 118
    },
    {
      "id": "a4f17a99-5a99-4748-b93b-02bf6abfd07c",
      "cell_type": "markdown",
      "source": "#### 4",
      "metadata": {}
    },
    {
      "id": "5dab7869-28ba-498e-b484-731408f29082",
      "cell_type": "code",
      "source": "Zahl1 = await input(\"Zahl 1:\")",
      "metadata": {
        "trusted": true
      },
      "outputs": [
        {
          "output_type": "stream",
          "name": "stdin",
          "text": "Zahl 1: 1\n"
        }
      ],
      "execution_count": 2
    },
    {
      "id": "83a35e7c-b060-482e-9b00-814af5349f11",
      "cell_type": "code",
      "source": "Zahl2 = await input(\"Zahl 2:\")",
      "metadata": {
        "trusted": true
      },
      "outputs": [
        {
          "output_type": "stream",
          "name": "stdin",
          "text": "Zahl 2: 2\n"
        }
      ],
      "execution_count": 3
    },
    {
      "id": "0a0dc380-f78e-4a7c-a8b1-1ca3d0345ba4",
      "cell_type": "code",
      "source": "Zahl1 = int(Zahl1)\nZahl2 = int(Zahl2)",
      "metadata": {
        "trusted": true
      },
      "outputs": [],
      "execution_count": 6
    },
    {
      "id": "69a7d72d-0eb7-4b1a-8bd0-14bb57a2432f",
      "cell_type": "code",
      "source": "print(Zahl1 + Zahl2)",
      "metadata": {
        "trusted": true
      },
      "outputs": [
        {
          "name": "stdout",
          "text": "3\n",
          "output_type": "stream"
        }
      ],
      "execution_count": 7
    },
    {
      "id": "ec899686-d76b-4cd1-8c4a-cdc524630f61",
      "cell_type": "markdown",
      "source": "#### 5",
      "metadata": {}
    },
    {
      "id": "c1e72973-9e8b-411d-9836-abfa55924e4b",
      "cell_type": "code",
      "source": "Grundgebühr = 60\nGebühr_pro_Stunde = 35\nDauer = await input(\"Dauer in Stunden:\")",
      "metadata": {
        "trusted": true
      },
      "outputs": [
        {
          "output_type": "stream",
          "name": "stdin",
          "text": "Dauer in Stunden: 17\n"
        }
      ],
      "execution_count": 9
    },
    {
      "id": "c3ece7e6-651c-48cb-9bd5-fba9ace4eb07",
      "cell_type": "code",
      "source": "Dauer = int(Dauer)\nKosten = Grundgebühr + Dauer * Gebühr_pro_Stunde\nprint(f\"\"\"Bei einer Grundgebühr von {Grundgebühr} und einer Gebühr von {Gebühr_pro_Stunde} pro Stunde, \nergeben sich bei einer Nuztungsdauer von {Dauer} Stunden gesamte Kosten von {Kosten}.\"\"\")",
      "metadata": {
        "trusted": true
      },
      "outputs": [
        {
          "name": "stdout",
          "text": "Bei einer Grundgebühr von 60 und einer Gebühr von 35 pro Stunde, \nergeben sich bei einer Nuztungsdauer von 17 Stunden gesamte Kosten von 655.\n",
          "output_type": "stream"
        }
      ],
      "execution_count": 10
    },
    {
      "id": "1dcbcd2a-6962-4644-abcb-6b56757425ff",
      "cell_type": "markdown",
      "source": "## 4.3. Listen",
      "metadata": {}
    },
    {
      "id": "55c405d1-4f15-4683-8a0e-201b5a944083",
      "cell_type": "code",
      "source": "liste = [3, 'King Arthur', ['Rabbit', 3.4], 2.44]",
      "metadata": {
        "trusted": true
      },
      "outputs": [],
      "execution_count": 1
    },
    {
      "id": "52e2f573-61bf-429b-b747-527757340558",
      "cell_type": "code",
      "source": "liste[0]",
      "metadata": {
        "trusted": true
      },
      "outputs": [
        {
          "execution_count": 2,
          "output_type": "execute_result",
          "data": {
            "text/plain": "3"
          },
          "metadata": {}
        }
      ],
      "execution_count": 2
    },
    {
      "id": "cb6a0a25-6225-446d-bffe-8f2894dd1267",
      "cell_type": "code",
      "source": "liste[1]",
      "metadata": {
        "trusted": true
      },
      "outputs": [
        {
          "execution_count": 3,
          "output_type": "execute_result",
          "data": {
            "text/plain": "'King Arthur'"
          },
          "metadata": {}
        }
      ],
      "execution_count": 3
    },
    {
      "id": "fd03e190-8436-4163-9bb1-c49253e46ffc",
      "cell_type": "code",
      "source": "liste[2]",
      "metadata": {
        "trusted": true
      },
      "outputs": [
        {
          "execution_count": 4,
          "output_type": "execute_result",
          "data": {
            "text/plain": "['Rabbit', 3.4]"
          },
          "metadata": {}
        }
      ],
      "execution_count": 4
    },
    {
      "id": "97061ccb-638e-4e5d-a3ee-8183c2ccb2be",
      "cell_type": "code",
      "source": "liste[2][0]",
      "metadata": {
        "trusted": true
      },
      "outputs": [
        {
          "execution_count": 5,
          "output_type": "execute_result",
          "data": {
            "text/plain": "'Rabbit'"
          },
          "metadata": {}
        }
      ],
      "execution_count": 5
    },
    {
      "id": "04917981-71fe-484c-b0ad-4f7edab321ee",
      "cell_type": "code",
      "source": "liste[2][1]",
      "metadata": {
        "trusted": true
      },
      "outputs": [
        {
          "execution_count": 6,
          "output_type": "execute_result",
          "data": {
            "text/plain": "3.4"
          },
          "metadata": {}
        }
      ],
      "execution_count": 6
    },
    {
      "id": "db1dd0fe-ecad-4eb3-ac2c-cdc24863642c",
      "cell_type": "code",
      "source": "liste",
      "metadata": {
        "trusted": true
      },
      "outputs": [
        {
          "execution_count": 7,
          "output_type": "execute_result",
          "data": {
            "text/plain": "[3, 'King Arthur', ['Rabbit', 3.4], 2.44]"
          },
          "metadata": {}
        }
      ],
      "execution_count": 7
    },
    {
      "id": "829aa74e-399b-4190-baf1-e485bbfe5181",
      "cell_type": "code",
      "source": "liste[0] = 11",
      "metadata": {
        "trusted": true
      },
      "outputs": [],
      "execution_count": 8
    },
    {
      "id": "d9d32c71-0e13-45a4-84ee-3cdb9e00efb1",
      "cell_type": "code",
      "source": "liste",
      "metadata": {
        "trusted": true
      },
      "outputs": [
        {
          "execution_count": 9,
          "output_type": "execute_result",
          "data": {
            "text/plain": "[11, 'King Arthur', ['Rabbit', 3.4], 2.44]"
          },
          "metadata": {}
        }
      ],
      "execution_count": 9
    },
    {
      "id": "3fee53ef-6f39-40ff-8e96-144ceca2e95f",
      "cell_type": "markdown",
      "source": "### 4.3.1 Aufgaben",
      "metadata": {}
    },
    {
      "id": "f2faa0c4-70cb-4d35-aeff-812fbc2d2b5a",
      "cell_type": "markdown",
      "source": "##### 1",
      "metadata": {}
    },
    {
      "id": "882add40-95be-427b-b5d1-754eedc144eb",
      "cell_type": "code",
      "source": "liste = ['Schwalbe', 'Kokosnuss', 13, 'Spam', 3.14]",
      "metadata": {
        "trusted": true
      },
      "outputs": [],
      "execution_count": 31
    },
    {
      "id": "d73f9aee-ca82-4479-b9d7-e4cc9af48194",
      "cell_type": "code",
      "source": "liste[2] = 666\nliste",
      "metadata": {
        "trusted": true
      },
      "outputs": [
        {
          "execution_count": 32,
          "output_type": "execute_result",
          "data": {
            "text/plain": "['Schwalbe', 'Kokosnuss', 666, 'Spam', 3.14]"
          },
          "metadata": {}
        }
      ],
      "execution_count": 32
    },
    {
      "id": "c7abe9e5-22c0-4877-8e6d-3d452ed4916d",
      "cell_type": "code",
      "source": "len(liste) # Länge der Liste",
      "metadata": {
        "trusted": true
      },
      "outputs": [
        {
          "execution_count": 33,
          "output_type": "execute_result",
          "data": {
            "text/plain": "5"
          },
          "metadata": {}
        }
      ],
      "execution_count": 33
    },
    {
      "id": "6a79cba2-0633-48ba-88e5-5c4e91ab3e15",
      "cell_type": "code",
      "source": "liste.append('Ni') # Fügt ein Element an\nliste",
      "metadata": {
        "trusted": true
      },
      "outputs": [
        {
          "execution_count": 34,
          "output_type": "execute_result",
          "data": {
            "text/plain": "['Schwalbe', 'Kokosnuss', 666, 'Spam', 3.14, 'Ni']"
          },
          "metadata": {}
        }
      ],
      "execution_count": 34
    },
    {
      "id": "7760d223-1566-4cd8-a2af-8e7e5f25dfaf",
      "cell_type": "code",
      "source": "liste.extend([4, 5, 3.14]) # Fügt Elemente einer Liste an\nliste",
      "metadata": {
        "trusted": true
      },
      "outputs": [
        {
          "execution_count": 35,
          "output_type": "execute_result",
          "data": {
            "text/plain": "['Schwalbe', 'Kokosnuss', 666, 'Spam', 3.14, 'Ni', 4, 5, 3.14]"
          },
          "metadata": {}
        }
      ],
      "execution_count": 35
    },
    {
      "id": "de7421e2-34d7-4777-8b63-85ba08310488",
      "cell_type": "code",
      "source": "liste.insert(2, 'Taube') # Füge ein Element an einer bestimmmten Position ein\nliste",
      "metadata": {
        "trusted": true
      },
      "outputs": [
        {
          "execution_count": 36,
          "output_type": "execute_result",
          "data": {
            "text/plain": "['Schwalbe', 'Kokosnuss', 'Taube', 666, 'Spam', 3.14, 'Ni', 4, 5, 3.14]"
          },
          "metadata": {}
        }
      ],
      "execution_count": 36
    },
    {
      "id": "9e9b122f-dfb6-45d8-b1d5-5c9081c2b551",
      "cell_type": "code",
      "source": "liste.count(3.14) # Zählt wie oft ein Element vorkommt",
      "metadata": {
        "trusted": true
      },
      "outputs": [
        {
          "execution_count": 38,
          "output_type": "execute_result",
          "data": {
            "text/plain": "2"
          },
          "metadata": {}
        }
      ],
      "execution_count": 38
    },
    {
      "id": "f29ed224-d492-4739-a31e-867b98d01e5b",
      "cell_type": "code",
      "source": "liste.index(3.14) # An wievielter Stelle ein Element (das erste Mal) vorkommt",
      "metadata": {
        "trusted": true
      },
      "outputs": [
        {
          "execution_count": 40,
          "output_type": "execute_result",
          "data": {
            "text/plain": "5"
          },
          "metadata": {}
        }
      ],
      "execution_count": 40
    },
    {
      "id": "486a19fd-71de-4123-aa49-1edfcbd6025c",
      "cell_type": "code",
      "source": "liste.remove(3.14) # Entfernt ein Element (das erste Auftretten)\nliste",
      "metadata": {
        "trusted": true
      },
      "outputs": [
        {
          "execution_count": 41,
          "output_type": "execute_result",
          "data": {
            "text/plain": "['Schwalbe', 'Kokosnuss', 'Taube', 666, 'Spam', 'Ni', 4, 5, 3.14]"
          },
          "metadata": {}
        }
      ],
      "execution_count": 41
    },
    {
      "id": "dd5f1d6c-06ad-4007-a9ea-a28aef09d70f",
      "cell_type": "code",
      "source": "liste.pop() # Gibt das letzte Element an und entfernt es",
      "metadata": {
        "trusted": true
      },
      "outputs": [
        {
          "execution_count": 42,
          "output_type": "execute_result",
          "data": {
            "text/plain": "3.14"
          },
          "metadata": {}
        }
      ],
      "execution_count": 42
    },
    {
      "id": "c4f20fdd-a1cc-4066-a07c-61e1a6ac3b36",
      "cell_type": "code",
      "source": "liste",
      "metadata": {
        "trusted": true
      },
      "outputs": [
        {
          "execution_count": 43,
          "output_type": "execute_result",
          "data": {
            "text/plain": "['Schwalbe', 'Kokosnuss', 'Taube', 666, 'Spam', 'Ni', 4, 5]"
          },
          "metadata": {}
        }
      ],
      "execution_count": 43
    },
    {
      "id": "97a563ed-d269-42b6-9ec6-2890d7e95388",
      "cell_type": "code",
      "source": "liste.reverse() # Dreht die Reihenfolge um\nliste",
      "metadata": {
        "trusted": true
      },
      "outputs": [
        {
          "execution_count": 45,
          "output_type": "execute_result",
          "data": {
            "text/plain": "['Schwalbe', 'Kokosnuss', 'Taube', 666, 'Spam', 'Ni', 4, 5]"
          },
          "metadata": {}
        }
      ],
      "execution_count": 45
    },
    {
      "id": "4706e284-7fdc-4254-91f8-94079f0c5531",
      "cell_type": "code",
      "source": "sum([1,3,5]) # Berechnet die Summe",
      "metadata": {
        "trusted": true
      },
      "outputs": [
        {
          "execution_count": 47,
          "output_type": "execute_result",
          "data": {
            "text/plain": "9"
          },
          "metadata": {}
        }
      ],
      "execution_count": 47
    },
    {
      "id": "8145832b-5265-478d-b5c1-c0f238f2fcf8",
      "cell_type": "markdown",
      "source": "##### 2",
      "metadata": {}
    },
    {
      "id": "663a35da-c2cd-40ca-96f2-cd0160d8fecb",
      "cell_type": "code",
      "source": "liste_a = ['Hallo', 'schönes', 'Wetter']\nliste_b = liste_a # hier werden die beiden Objekte gleichgesetzt\n\nliste_b[1] = 'schlechtes' # hier werden deshalb beide geändert\n\nprint(liste_a[0], liste_a[1], liste_a[2])",
      "metadata": {
        "trusted": true
      },
      "outputs": [
        {
          "name": "stdout",
          "text": "Hallo schlechtes Wetter\n",
          "output_type": "stream"
        }
      ],
      "execution_count": 56
    },
    {
      "id": "4d5de2b2-6c98-455e-9905-c83250100bba",
      "cell_type": "code",
      "source": "print(f\"liste_a: {liste_a}\")\nprint(f\"liste_b: {liste_b}\")",
      "metadata": {
        "trusted": true
      },
      "outputs": [
        {
          "name": "stdout",
          "text": "liste_a: ['Hallo', 'schlechtes', 'Wetter']\nliste_b: ['Hallo', 'schlechtes', 'Wetter']\n",
          "output_type": "stream"
        }
      ],
      "execution_count": 57
    },
    {
      "id": "adc2ce43-5bdf-4da7-9e8b-519b56194dfd",
      "cell_type": "code",
      "source": "liste_a = ['Hallo', 'schönes', 'Wetter']\nliste_b = liste_a.copy() # Hier wird eine echte Kopie erstellt\n\nliste_b[1] = 'schlechtes' # Hier wird nur die Kopie geändert, nicht das Original\n\nprint(liste_a[0], liste_a[1], liste_a[2])",
      "metadata": {
        "trusted": true
      },
      "outputs": [
        {
          "name": "stdout",
          "text": "Hallo schönes Wetter\n",
          "output_type": "stream"
        }
      ],
      "execution_count": 54
    },
    {
      "id": "0e0c0267-3c84-4304-bd8a-71d6913c3b92",
      "cell_type": "code",
      "source": "print(f\"liste_a: {liste_a}\")\nprint(f\"liste_b: {liste_b}\")",
      "metadata": {
        "trusted": true
      },
      "outputs": [
        {
          "name": "stdout",
          "text": "liste_a: ['Hallo', 'schönes', 'Wetter']\nliste_b: ['Hallo', 'schlechtes', 'Wetter']\n",
          "output_type": "stream"
        }
      ],
      "execution_count": 55
    },
    {
      "id": "072b5612-c9f4-4c0e-a294-2ee6e6aed77b",
      "cell_type": "markdown",
      "source": "##### 4",
      "metadata": {}
    },
    {
      "id": "6ff779e6-149b-4873-9646-26c49c93540d",
      "cell_type": "code",
      "source": "n1 = 1\nn2 = 3\nn3 = 3\nfor n4 in range(1,6):\n    print(f\"Du hattest bisher folgende Noten: {n1}, {n2}, {n3}. Wenn die vierte Note ein {n4}-er ist, dann ist der Notendruchschnitt = {(n1 + n2 + n3 + n4) / 4}\")",
      "metadata": {
        "trusted": true
      },
      "outputs": [
        {
          "name": "stdout",
          "text": "Du hattest bisher folgende Noten: 1, 3, 3. Wenn die vierte Note ein 1-er ist, dann ist der Notendruchschnitt = 2.0\nDu hattest bisher folgende Noten: 1, 3, 3. Wenn die vierte Note ein 2-er ist, dann ist der Notendruchschnitt = 2.25\nDu hattest bisher folgende Noten: 1, 3, 3. Wenn die vierte Note ein 3-er ist, dann ist der Notendruchschnitt = 2.5\nDu hattest bisher folgende Noten: 1, 3, 3. Wenn die vierte Note ein 4-er ist, dann ist der Notendruchschnitt = 2.75\nDu hattest bisher folgende Noten: 1, 3, 3. Wenn die vierte Note ein 5-er ist, dann ist der Notendruchschnitt = 3.0\n",
          "output_type": "stream"
        }
      ],
      "execution_count": 58
    },
    {
      "id": "a9336f6d-d9d2-4da6-8968-7bd73f5f6c74",
      "cell_type": "code",
      "source": "noten = [1, 3, 3]\nfor note_neu in range(1,6):\n    print(f\"Du hattest bisher folgende Noten: {noten[0]}, {noten[1]}, {noten[2]}. Wenn die vierte Note ein {note_neu}-er ist, dann ist der Notendruchschnitt = {(sum(noten) + note_neu) / (len(noten) + 1)}\")",
      "metadata": {
        "trusted": true
      },
      "outputs": [
        {
          "name": "stdout",
          "text": "Du hattest bisher folgende Noten: 1, 3, 3. Wenn die vierte Note ein 1-er ist, dann ist der Notendruchschnitt = 2.0\nDu hattest bisher folgende Noten: 1, 3, 3. Wenn die vierte Note ein 2-er ist, dann ist der Notendruchschnitt = 2.25\nDu hattest bisher folgende Noten: 1, 3, 3. Wenn die vierte Note ein 3-er ist, dann ist der Notendruchschnitt = 2.5\nDu hattest bisher folgende Noten: 1, 3, 3. Wenn die vierte Note ein 4-er ist, dann ist der Notendruchschnitt = 2.75\nDu hattest bisher folgende Noten: 1, 3, 3. Wenn die vierte Note ein 5-er ist, dann ist der Notendruchschnitt = 3.0\n",
          "output_type": "stream"
        }
      ],
      "execution_count": 61
    },
    {
      "id": "fd8d493d-fd76-464f-add3-d6e324bb94cf",
      "cell_type": "code",
      "source": "noten = [1, 3 ,4,3,2,1,5,4,66]\nfor note_neu in range(1,6):\n    print(f\"Du hattest bisher folgende Noten: {', '.join([str(i) for i in noten])}. Wenn die nächste Note ein {note_neu}-er ist, dann ist der Notendruchschnitt = {(sum(noten) + note_neu) / (len(noten) + 1):.1f}\")",
      "metadata": {
        "trusted": true
      },
      "outputs": [
        {
          "name": "stdout",
          "text": "Du hattest bisher folgende Noten: 1, 3, 4, 3, 2, 1, 5, 4, 66. Wenn die nächste Note ein 1-er ist, dann ist der Notendruchschnitt = 9.0\nDu hattest bisher folgende Noten: 1, 3, 4, 3, 2, 1, 5, 4, 66. Wenn die nächste Note ein 2-er ist, dann ist der Notendruchschnitt = 9.1\nDu hattest bisher folgende Noten: 1, 3, 4, 3, 2, 1, 5, 4, 66. Wenn die nächste Note ein 3-er ist, dann ist der Notendruchschnitt = 9.2\nDu hattest bisher folgende Noten: 1, 3, 4, 3, 2, 1, 5, 4, 66. Wenn die nächste Note ein 4-er ist, dann ist der Notendruchschnitt = 9.3\nDu hattest bisher folgende Noten: 1, 3, 4, 3, 2, 1, 5, 4, 66. Wenn die nächste Note ein 5-er ist, dann ist der Notendruchschnitt = 9.4\n",
          "output_type": "stream"
        }
      ],
      "execution_count": 75
    },
    {
      "id": "8a2765e0-1e09-4e7b-ab75-59e3889deb77",
      "cell_type": "code",
      "source": "'-'.join(['a', 'b', 'c'])",
      "metadata": {
        "trusted": true
      },
      "outputs": [
        {
          "execution_count": 70,
          "output_type": "execute_result",
          "data": {
            "text/plain": "'a-b-c'"
          },
          "metadata": {}
        }
      ],
      "execution_count": 70
    },
    {
      "id": "d92d8ed8-3791-43f2-965b-9923bf231c35",
      "cell_type": "code",
      "source": "'-'.join([1, 2, 3])",
      "metadata": {
        "trusted": true
      },
      "outputs": [
        {
          "ename": "<class 'TypeError'>",
          "evalue": "sequence item 0: expected str instance, int found",
          "traceback": [
            "\u001b[0;31m---------------------------------------------------------------------------\u001b[0m",
            "\u001b[0;31mTypeError\u001b[0m                                 Traceback (most recent call last)",
            "Cell \u001b[0;32mIn[71], line 1\u001b[0m\n\u001b[0;32m----> 1\u001b[0m \u001b[38;5;124;43m'\u001b[39;49m\u001b[38;5;124;43m-\u001b[39;49m\u001b[38;5;124;43m'\u001b[39;49m\u001b[38;5;241;43m.\u001b[39;49m\u001b[43mjoin\u001b[49m\u001b[43m(\u001b[49m\u001b[43m[\u001b[49m\u001b[38;5;241;43m1\u001b[39;49m\u001b[43m,\u001b[49m\u001b[43m \u001b[49m\u001b[38;5;241;43m2\u001b[39;49m\u001b[43m,\u001b[49m\u001b[43m \u001b[49m\u001b[38;5;241;43m3\u001b[39;49m\u001b[43m]\u001b[49m\u001b[43m)\u001b[49m\n",
            "\u001b[0;31mTypeError\u001b[0m: sequence item 0: expected str instance, int found"
          ],
          "output_type": "error"
        }
      ],
      "execution_count": 71
    },
    {
      "id": "61287522-c57e-48d6-a079-0464585d57bb",
      "cell_type": "code",
      "source": "[str(i) for i in [1,2,3]]",
      "metadata": {
        "trusted": true
      },
      "outputs": [
        {
          "execution_count": 73,
          "output_type": "execute_result",
          "data": {
            "text/plain": "['1', '2', '3']"
          },
          "metadata": {}
        }
      ],
      "execution_count": 73
    },
    {
      "id": "db96084f-3eac-406f-9637-3602d814417f",
      "cell_type": "code",
      "source": "'-'.join([str(i) for i in [1,2,3]])",
      "metadata": {
        "trusted": true
      },
      "outputs": [
        {
          "execution_count": 77,
          "output_type": "execute_result",
          "data": {
            "text/plain": "'1-2-3'"
          },
          "metadata": {}
        }
      ],
      "execution_count": 77
    }
  ]
}